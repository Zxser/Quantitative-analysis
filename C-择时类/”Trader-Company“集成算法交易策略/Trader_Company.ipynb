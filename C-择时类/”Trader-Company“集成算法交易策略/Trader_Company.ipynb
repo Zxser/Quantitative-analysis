{
 "cells": [
  {
   "cell_type": "code",
   "execution_count": 1,
   "metadata": {},
   "outputs": [],
   "source": [
    "\n",
    "import functools\n",
    "from typing import Callable, Dict, List, Tuple, Union\n",
    "\n",
    "import matplotlib.pyplot as plt\n",
    "import numpy as np\n",
    "import pandas as pd\n",
    "from scr.activation_funcs import ReLU, identity, sign, tanh\n",
    "from scr.binary_operators import (\n",
    "    get_x,\n",
    "    get_y,\n",
    "    operators_add,\n",
    "    operators_diff,\n",
    "    operators_max,\n",
    "    operators_min,\n",
    "    operators_multiple,\n",
    "    x_is_greater_than_y,\n",
    ")\n",
    "from scr.trader import Trader\n",
    "from tqdm.notebook import tqdm"
   ]
  },
  {
   "cell_type": "code",
   "execution_count": 2,
   "metadata": {
    "notebookRunGroups": {
     "groupValue": "1"
    }
   },
   "outputs": [],
   "source": [
    "def dynamics(y_t: np.ndarray, sigma: float):\n",
    "\n",
    "    a, b = y_t\n",
    "    y_next = np.zeros_like(y_t)\n",
    "    size = y_t.shape[1]\n",
    "\n",
    "    y_next[0] = 1.0 * np.tanh(a) + 0.8 * a * b + 1.0 * b - 1.0 * ReLU(\n",
    "        np.minimum(a, b)) + sigma * np.random.randn(size)\n",
    "    y_next[1] = 0.6 * np.sign(b) + 0.5 * a * b - 1.0 * np.maximum(\n",
    "        a, b) + sigma * np.random.randn(size)\n",
    "\n",
    "    return y_next\n",
    "\n",
    "\n",
    "T_total = 2000\n",
    "sigma = 0.1\n",
    "y = np.zeros((2, T_total))\n",
    "# axis=0 为时间 axis=1为股票\n",
    "data = dynamics(y, sigma).T"
   ]
  },
  {
   "cell_type": "code",
   "execution_count": 16,
   "metadata": {
    "notebookRunGroups": {
     "groupValue": "1"
    }
   },
   "outputs": [],
   "source": [
    "\n",
    "# 如果有N个交易员的第I个股票用create_formulae生成一组formulae\n",
    "def create_formulae(M: int,\n",
    "                    A: List[Callable],\n",
    "                    O: List[Callable],\n",
    "                    stock_num: int,\n",
    "                    max_lag: int = 9,\n",
    "                    l: int = 1,\n",
    "                    seed: int = None) -> List[Callable]:\n",
    "    \"\"\"构造$\\Theta$\n",
    "       $\\Theta=\\sum^{M}_{j}w_{j}A_{j}(O_{j}(r_{P_{j}}[t-D_{j}],r_{Q_{j}}[t-F_{j}]))$\n",
    "       \n",
    "    Args:\n",
    "        M (int): 每位交易员表达式最大项数\n",
    "        A (List[Callable]): 激活函数列表\n",
    "        O (List[Callable]): 二元操作符函数列表\n",
    "        stock_num (int): 股票个数\n",
    "        max_lag (int, optional): 数据延迟最大取值. Defaults to 9.\n",
    "        l (int, optional): 交易延迟量,即观察到数据后不可能立马进行交易,需要等待l时间. Defaults to 1.\n",
    "        seed (int, optional): 随机数种子. Defaults to None.\n",
    "\n",
    "    Returns:\n",
    "        List: _description_\n",
    "    \"\"\"\n",
    "    def _formula_func(data: np.ndarray, active_func: Callable,\n",
    "                      binary_oper: Callable, P: int, Q: int, F: int,\n",
    "                      D: int) -> float:\n",
    "        \"\"\"公式生成\n",
    "\n",
    "        Args:\n",
    "            data (np.ndarray): 传入数据1轴为股票 0为时间\n",
    "            active_func (Callable):激活函数\n",
    "            binary_oper (Callable):二元操作符\n",
    "            P (int):所选股票下标\n",
    "            Q (int):所选股票下标\n",
    "            F (int):滞后期\n",
    "            D (int):滞后期\n",
    "        \"\"\"\n",
    "\n",
    "        t = data.shape[0]  # 获取时间长度\n",
    "        if t < (max_lag + l):\n",
    "            raise ValueError(f'数据时间序列长度(t={t})不能小于max_lag + l(max_lag+l={max_lag + l})!')\n",
    "\n",
    "        indices: np.ndarray = np.arange(max_lag + l, t)\n",
    "\n",
    "        x: np.ndarray = np.take(data[:,P], indices - D)\n",
    "\n",
    "        y: np.ndarray = np.take(data[:,Q], indices - F)\n",
    "\n",
    "        # return active_func(binary_oper(data[P][t - D], data[Q][t - F]))\n",
    "        return active_func(binary_oper(x, y))\n",
    "\n",
    "    if seed:\n",
    "\n",
    "        np.random.seed(seed)\n",
    "\n",
    "    m = np.random.choice(M)  # 根据M最大项数选择个数\n",
    "\n",
    "    # 向量化\n",
    "    # 构建延迟数\n",
    "    a = np.arange(1, max_lag + l)  # 最少为1天\n",
    "    D: np.ndarray = np.random.choice(a, m)\n",
    "    F: np.ndarray = np.random.choice(a, m)\n",
    "\n",
    "    # 随机选择股票\n",
    "    P: np.ndarray = np.random.choice(stock_num, m)\n",
    "    Q: np.ndarray = np.random.choice(stock_num, m)\n",
    "\n",
    "    # 列表中存放构成公式的\"算子\"\n",
    "    formulae: np.ndarray = np.array(\n",
    "        [np.random.choice(A, m),\n",
    "         np.random.choice(O, m), P, Q, D, F],\n",
    "        dtype='object').T\n",
    "\n",
    "    # 列表中的func后续近仅需要传入data及对应的T即可得到返回值\n",
    "    formulae_ls_func: List[Callable] = [\n",
    "        functools.partial(_formula_func,\n",
    "                          active_func=row[0],\n",
    "                          binary_oper=row[1],\n",
    "                          P=row[2],\n",
    "                          Q=row[3],\n",
    "                          F=row[4],\n",
    "                          D=row[5]) for row in formulae\n",
    "    ]\n",
    "\n",
    "    return formulae_ls_func\n",
    "\n",
    "\n",
    "def ols_func(exog: np.ndarray, endog: np.ndarray) -> np.ndarray:\n",
    "    \"\"\"ols函数\"\"\"\n",
    "    A: np.ndarray = np.c_[np.ones(len(exog)), exog]\n",
    "    \n",
    "    return np.linalg.lstsq(A, endog, rcond=None)[0]\n",
    "\n",
    "def rolling_window(data:np.ndarray,window:int)->List:\n",
    "    \"\"\"获取滚动窗口期内的数据\n",
    "\n",
    "    Args:\n",
    "        data (np.ndarray): axis 0为日期 1为股票\n",
    "        window (int): 窗口期\n",
    "\n",
    "    Returns:\n",
    "        np.ndarray\n",
    "    \"\"\"\n",
    "    if data.ndim == 1:\n",
    "        data = data.reshape(-1, 1)\n",
    "    shape = (data.shape[0] - window + 1, window) + data.shape[1:]\n",
    "    strides = (data.strides[0],) + data.strides\n",
    "    slice_arr = np.squeeze(\n",
    "        np.lib.stride_tricks.as_strided(data, shape=shape, strides=strides)\n",
    "    )\n",
    "    \n",
    "    if slice_arr.ndim == 1:\n",
    "        slice_arr = np.atleast_2d(slice_arr)\n",
    "    return slice_arr"
   ]
  },
  {
   "cell_type": "code",
   "execution_count": 17,
   "metadata": {},
   "outputs": [],
   "source": [
    "class Trader(object):\n",
    "    def __init__(self,\n",
    "                 M: int,\n",
    "                 A: List[Callable],\n",
    "                 O: List[Callable],\n",
    "                 stock_num: int,\n",
    "                 max_lag: int = 9,\n",
    "                 l: int = 1,\n",
    "                 seed: int = None) -> None:\n",
    "\n",
    "        activation_funcs: List[Callable] = [identity, ReLU, sign, tanh]\n",
    "        binary_operators: List[Callable] = [\n",
    "            operators_max, operators_min, operators_add, operators_diff, get_x,\n",
    "            get_y, operators_multiple, x_is_greater_than_y\n",
    "        ]\n",
    "\n",
    "        if seed:\n",
    "            np.random.seed(seed)\n",
    "\n",
    "        # 生成公式\n",
    "        ## List中的下表对应的是数据中的股票\n",
    "        self.formulate: List[List[Callable]] = [\n",
    "            create_formulae(M,\n",
    "                            activation_funcs,\n",
    "                            binary_operators,\n",
    "                            stock_num=stock_num,\n",
    "                            max_lag=max_lag,\n",
    "                            l=l) for _ in range(stock_num)\n",
    "        ]\n",
    "        # 生成权重\n",
    "        ## List中的下表对应的是数据中的股票\n",
    "        self.weight: List[np.ndarray] = self.get_randn_weight()\n",
    "\n",
    "    def get_randn_weight(self) -> List[np.ndarray]:\n",
    "        \"\"\"随机生成权重\"\"\"\n",
    "\n",
    "        return [np.random.randn(len(formula)) for formula in self.formulate]\n",
    "\n",
    "    def calc_factors(self, data: np.ndarray) -> None:\n",
    "\n",
    "        factors: List = []  # 储存因子\n",
    "\n",
    "        for stocki_formula in self.formulate:\n",
    "\n",
    "            p: List = [formula(data) for formula in stocki_formula]\n",
    "\n",
    "            p: np.ndarray = np.vstack(p).T\n",
    "\n",
    "            factors.append(p)\n",
    "\n",
    "        # 获取因子\n",
    "        self.factors: List[np.ndarray] = factors\n",
    "\n",
    "    def fit(self, data: np.ndarray) -> np.ndarray:\n",
    "\n",
    "        self.calc_factors(data)\n",
    "        pred: List = [\n",
    "            factor @ w for factor, w in zip(self.factors, self.weight)\n",
    "        ]\n",
    "\n",
    "        return np.vstack(pred).T\n",
    "\n",
    "    def learn(self, endog: np.ndarray, func: Callable = ols_func) -> None:\n",
    "\n",
    "        for num, factor in enumerate(self.factors):\n",
    "\n",
    "            self.weight[num] = ols_func(factor, endog)\n",
    "\n",
    "    def predict(self) -> np.ndarray:\n",
    "\n",
    "        y_pred: List = [\n",
    "            factor[-1] @ w for factor, w in zip(self.factors, self.weight)\n",
    "        ]\n",
    "        return np.vstack(y_pred).T\n",
    "    \n",
    "    def calc_cumulative_err(self,real_value:np.ndarray):\n",
    "        \n",
    "        y_pred:List = [\n",
    "            factor @ w for factor, w in zip(self.factors, self.weight)\n",
    "        ]\n",
    "        \n",
    "        y_pred:np.ndarray = np.vstack(y_pred).T\n",
    "        \n",
    "        errors:np.ndarry = np.sqrt(np.square(y_pred - real_value).mean())\n",
    "        \n",
    "        self.cumulative_err:np.ndarray = errors\n",
    "\n",
    "\n",
    "class Company(object):\n",
    "    def __init__(self,\n",
    "                 stock_names: List[str],\n",
    "                 M: int,\n",
    "                 max_lag: int,\n",
    "                 l: int,\n",
    "                 activation_funcs: List[Callable],\n",
    "                 binary_operators: List[Callable],\n",
    "                 traders_num: int,\n",
    "                 Q: float = 0.5,\n",
    "                 seed: int = None) -> None:\n",
    "\n",
    "        if seed:\n",
    "            np.random.seed(seed)\n",
    "\n",
    "        self.traders: List[Trader] = [\n",
    "            Trader(M, activation_funcs, binary_operators, len(stock_names),\n",
    "                   max_lag, l) for _ in range(traders_num)\n",
    "        ]\n",
    "\n",
    "    def fit(self, train_data: np.ndarray):\n",
    "\n",
    "        pass"
   ]
  },
  {
   "cell_type": "code",
   "execution_count": 18,
   "metadata": {},
   "outputs": [],
   "source": [
    "activation_funcs:List[Callable] = [identity, ReLU, sign, tanh]\n",
    "binary_operators:List[Callable] = [\n",
    "    operators_max, operators_min, operators_add,\n",
    "                                  operators_diff, get_x, get_y, operators_multiple, x_is_greater_than_y\n",
    "]\n",
    "\n",
    "model = Company([1,2],10,9,1,activation_funcs,binary_operators,10,0.5,42)"
   ]
  },
  {
   "cell_type": "code",
   "execution_count": 22,
   "metadata": {},
   "outputs": [
    {
     "data": {
      "text/plain": [
       "array([], shape=(0, 2), dtype=float64)"
      ]
     },
     "execution_count": 22,
     "metadata": {},
     "output_type": "execute_result"
    }
   ],
   "source": [
    "model.traders[0].fit(data[:10,:])"
   ]
  },
  {
   "cell_type": "code",
   "execution_count": 8,
   "metadata": {},
   "outputs": [
    {
     "ename": "AttributeError",
     "evalue": "'Trader' object has no attribute 'calc_cumulative_error'",
     "output_type": "error",
     "traceback": [
      "\u001b[1;31m---------------------------------------------------------------------------\u001b[0m",
      "\u001b[1;31mAttributeError\u001b[0m                            Traceback (most recent call last)",
      "\u001b[1;32m<ipython-input-8-6ad11e824861>\u001b[0m in \u001b[0;36m<module>\u001b[1;34m\u001b[0m\n\u001b[1;32m----> 1\u001b[1;33m \u001b[0mmodel\u001b[0m\u001b[1;33m.\u001b[0m\u001b[0mtraders\u001b[0m\u001b[1;33m[\u001b[0m\u001b[1;36m0\u001b[0m\u001b[1;33m]\u001b[0m\u001b[1;33m.\u001b[0m\u001b[0mcalc_cumulative_error\u001b[0m\u001b[1;33m(\u001b[0m\u001b[0mdata\u001b[0m\u001b[1;33m[\u001b[0m\u001b[1;33m:\u001b[0m\u001b[1;36m15\u001b[0m\u001b[1;33m,\u001b[0m\u001b[1;33m:\u001b[0m\u001b[1;33m]\u001b[0m\u001b[1;33m)\u001b[0m\u001b[1;33m\u001b[0m\u001b[1;33m\u001b[0m\u001b[0m\n\u001b[0m",
      "\u001b[1;31mAttributeError\u001b[0m: 'Trader' object has no attribute 'calc_cumulative_error'"
     ]
    }
   ],
   "source": [
    "model.traders[0].calc_cumulative_error(data[:15,:])"
   ]
  },
  {
   "cell_type": "code",
   "execution_count": 12,
   "metadata": {},
   "outputs": [
    {
     "data": {
      "text/plain": [
       "[array([0.03088613, 0.00533168, 0.06334254, 0.15749705, 0.08438869]),\n",
       " array([ 0.02213643,  1.50916311,  0.02213643, -0.07168748,  1.54445491])]"
      ]
     },
     "execution_count": 12,
     "metadata": {},
     "output_type": "execute_result"
    }
   ],
   "source": [
    "[factor @ w for factor, w in zip(model.traders[0].factors, model.traders[0].weight)]\n"
   ]
  },
  {
   "cell_type": "code",
   "execution_count": 102,
   "metadata": {},
   "outputs": [
    {
     "data": {
      "text/plain": [
       "array([[-0.02068604,  1.54385422]])"
      ]
     },
     "execution_count": 102,
     "metadata": {},
     "output_type": "execute_result"
    }
   ],
   "source": [
    "windows = rolling_window(data,11)\n",
    "model.traders[0].fit(windows[0])"
   ]
  },
  {
   "cell_type": "code",
   "execution_count": null,
   "metadata": {},
   "outputs": [],
   "source": []
  }
 ],
 "metadata": {
  "interpreter": {
   "hash": "49cb93f377a7abe7414b7b0f21fb3017538004a126cf690fb524202736b7fb92"
  },
  "kernelspec": {
   "display_name": "Python 3.8.8 ('base')",
   "language": "python",
   "name": "python3"
  },
  "language_info": {
   "codemirror_mode": {
    "name": "ipython",
    "version": 3
   },
   "file_extension": ".py",
   "mimetype": "text/x-python",
   "name": "python",
   "nbconvert_exporter": "python",
   "pygments_lexer": "ipython3",
   "version": "3.8.8"
  },
  "orig_nbformat": 4
 },
 "nbformat": 4,
 "nbformat_minor": 2
}
