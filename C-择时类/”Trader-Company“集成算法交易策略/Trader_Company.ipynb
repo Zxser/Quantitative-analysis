{
 "cells": [
  {
   "cell_type": "code",
   "execution_count": 2,
   "metadata": {},
   "outputs": [],
   "source": [
    "from typing import (Tuple,List,Dict,Union)\n",
    "import pandas as pd\n",
    "import numpy as np\n",
    "\n",
    "from torch.nn import (Tanh,ReLU)\n",
    "import torch"
   ]
  },
  {
   "cell_type": "code",
   "execution_count": 55,
   "metadata": {},
   "outputs": [],
   "source": [
    "def dynamics(y_t:torch.tensor,sigma):\n",
    "    \n",
    "    a,b = y_t\n",
    "    y_next = torch.zeros_like(y_t)\n",
    "    \n",
    "    relu = ReLU()\n",
    "\n",
    "    y_next[0] =  1.0 * torch.tanh(a) + 0.8 * a * b + 1.0 * b - 1.0 * relu(torch.minimum(a,b)) + sigma * torch.randn(1)\n",
    "    y_next[1] = 0.6 * torch.sign(b) + 0.5 * a * b - 1.0 * torch.maximum(a,b) + sigma * torch.randn(1)\n",
    "    \n",
    "    return y_next"
   ]
  },
  {
   "cell_type": "code",
   "execution_count": 56,
   "metadata": {},
   "outputs": [
    {
     "data": {
      "text/plain": [
       "tensor([[ 0.6641,  0.0020,  0.0020,  ...,  0.0020,  0.0020,  0.0020],\n",
       "        [ 0.0895, -0.1355, -0.1355,  ..., -0.1355, -0.1355, -0.1355]])"
      ]
     },
     "execution_count": 56,
     "metadata": {},
     "output_type": "execute_result"
    }
   ],
   "source": [
    "sigma_true = 0.1\n",
    "\n",
    "T_total = 2000\n",
    "y = torch.zeros((2, T_total))\n",
    "y_without_noise = torch.zeros((2, T_total))\n",
    "\n",
    "y[:,0] = torch.tensor([0.5,0.5])\n",
    "y_without_noise = torch.tensor([0.5,-0.5])\n",
    "\n",
    "name_stock = dynamics(y,sigma_true)\n",
    "noise = dynamics(y,0)\n",
    "Nomura = name_stock[0]\n",
    "PFN = name_stock[1]\n",
    "# for t in range(1,T_total):\n",
    "    \n",
    "#     y[:,t] = dynamics(y[:,t-1],sigma_true)\n",
    "#     y_without_noise[:,t] = dynamics(y[:,t-1],0.)"
   ]
  },
  {
   "cell_type": "code",
   "execution_count": 61,
   "metadata": {},
   "outputs": [
    {
     "data": {
      "text/plain": [
       "tensor([0., 0., 0.,  ..., 0., 0., 0.])"
      ]
     },
     "execution_count": 61,
     "metadata": {},
     "output_type": "execute_result"
    }
   ],
   "source": [
    "y[0,1:]"
   ]
  },
  {
   "cell_type": "code",
   "execution_count": null,
   "metadata": {},
   "outputs": [],
   "source": []
  },
  {
   "cell_type": "code",
   "execution_count": null,
   "metadata": {},
   "outputs": [],
   "source": []
  },
  {
   "cell_type": "code",
   "execution_count": null,
   "metadata": {},
   "outputs": [],
   "source": []
  },
  {
   "cell_type": "code",
   "execution_count": null,
   "metadata": {},
   "outputs": [],
   "source": []
  },
  {
   "cell_type": "code",
   "execution_count": null,
   "metadata": {},
   "outputs": [],
   "source": []
  }
 ],
 "metadata": {
  "interpreter": {
   "hash": "49cb93f377a7abe7414b7b0f21fb3017538004a126cf690fb524202736b7fb92"
  },
  "kernelspec": {
   "display_name": "Python 3.8.8 ('base')",
   "language": "python",
   "name": "python3"
  },
  "language_info": {
   "codemirror_mode": {
    "name": "ipython",
    "version": 3
   },
   "file_extension": ".py",
   "mimetype": "text/x-python",
   "name": "python",
   "nbconvert_exporter": "python",
   "pygments_lexer": "ipython3",
   "version": "3.8.8"
  },
  "orig_nbformat": 4
 },
 "nbformat": 4,
 "nbformat_minor": 2
}
