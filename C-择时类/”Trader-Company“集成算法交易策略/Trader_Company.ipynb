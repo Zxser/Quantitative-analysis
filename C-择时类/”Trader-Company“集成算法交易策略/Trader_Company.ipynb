{
 "cells": [
  {
   "cell_type": "code",
   "execution_count": 11,
   "metadata": {},
   "outputs": [],
   "source": [
    "from typing import (Tuple, List, Dict, Union, Callable)\n",
    "import pandas as pd\n",
    "import numpy as np\n",
    "import functools\n",
    "from tqdm.notebook import tqdm\n",
    "from scr.trader import Trader\n",
    "from scr.company import Company\n",
    "from scr.activation_funcs import identity, ReLU, sign, tanh\n",
    "from scr.binary_operators import (operators_max, operators_min, operators_add,\n",
    "                                  operators_diff, get_x, get_y, operators_multiple, x_is_greater_than_y)\n",
    "import matplotlib.pyplot as plt\n"
   ]
  },
  {
   "cell_type": "code",
   "execution_count": 5,
   "metadata": {},
   "outputs": [],
   "source": [
    "# import torch\n",
    "# from torch.nn import (Tanh,ReLU)\n",
    "\n",
    "# def dynamics(y_t:torch.tensor,sigma):\n",
    "\n",
    "#     a,b = y_t\n",
    "#     y_next = torch.zeros_like(y_t)\n",
    "#     size = y_t.shape[1]\n",
    "#     relu = ReLU()\n",
    "\n",
    "#     y_next[0] =  1.0 * torch.tanh(a) + 0.8 * a * b + 1.0 * b - 1.0 * relu(torch.minimum(a,b)) + sigma * torch.randn(size)\n",
    "#     y_next[1] = 0.6 * torch.sign(b) + 0.5 * a * b - 1.0 * torch.maximum(a,b) + sigma * torch.randn(size)\n",
    "\n",
    "#     return y_next\n",
    "\n",
    "# sigma_true = 0.1\n",
    "\n",
    "# T_total = 2000\n",
    "# y = torch.zeros((2, T_total))\n",
    "# y_without_noise = torch.zeros((2, T_total))\n",
    "\n",
    "# name_stock = dynamics(y,sigma_true)\n",
    "# noise = dynamics(name_stock,0)\n",
    "\n",
    "# # Nomura = name_stock[0]\n",
    "# # PFN = name_stock[1]\n",
    "# name_stock[:,0] = torch.tensor([0.5,0.5])\n",
    "# noise[:,0] = torch.tensor([0.5,-0.5])\n",
    "# name_stock_label = [\"Nomura\", \"PFN\"]\n",
    "\n",
    "# plt.figure(figsize=(18,5))\n",
    "# plt.xlim([T_total-100,T_total])\n",
    "# plt.plot(name_stock[0].numpy(), color = \"#cc0000\", label = name_stock_label[0])\n",
    "# plt.plot(name_stock[1].numpy(), color = \"#083090\", label = name_stock_label[1])\n",
    "# plt.plot(noise[0].numpy(), color = \"#cc0000\", linestyle = \"--\", label = name_stock_label[0] + \"(w/o noise)\")\n",
    "# plt.plot(noise[1].numpy(), color = \"#083090\", linestyle = \"--\", label = name_stock_label[1] + \"(w/o noise)\")\n",
    "# plt.xlabel(\"time\", fontsize = 18)\n",
    "# plt.ylabel(\"y\", fontsize = 18)\n",
    "# plt.legend()"
   ]
  },
  {
   "cell_type": "code",
   "execution_count": 6,
   "metadata": {},
   "outputs": [],
   "source": [
    "def dynamics(y_t: np.ndarray, sigma: float):\n",
    "\n",
    "    a, b = y_t\n",
    "    y_next = np.zeros_like(y_t)\n",
    "    size = y_t.shape[1]\n",
    "\n",
    "    y_next[0] = 1.0 * np.tanh(a) + 0.8 * a * b + 1.0 * b - 1.0 * ReLU(\n",
    "        np.minimum(a, b)) + sigma * np.random.randn(size)\n",
    "    y_next[1] = 0.6 * np.sign(b) + 0.5 * a * b - 1.0 * np.maximum(\n",
    "        a, b) + sigma * np.random.randn(size)\n",
    "\n",
    "    return y_next\n",
    "\n",
    "\n",
    "T_total = 2000\n",
    "sigma = 0.1\n",
    "y = np.zeros((2, T_total))\n",
    "data = dynamics(y, sigma)"
   ]
  },
  {
   "cell_type": "code",
   "execution_count": 7,
   "metadata": {},
   "outputs": [],
   "source": [
    "# 如果有N个交易员的第I个股票用create_formulae生成一组formulae\n",
    "def create_formulae(M: int,\n",
    "                    A: List[Callable],\n",
    "                    O: List[Callable],\n",
    "                    stock_num: int,\n",
    "                    max_lag: int = 9,\n",
    "                    l: int = 1,\n",
    "                    seed: int = None) -> List[Callable]:\n",
    "    \"\"\"构造$\\Theta$\n",
    "       $\\Theta=\\sum^{M}_{j}w_{j}A_{j}(O_{j}(r_{P_{j}}[t-D_{j}],r_{Q_{j}}[t-F_{j}]))$\n",
    "       \n",
    "    Args:\n",
    "        M (int): 每位交易员表达式最大项数\n",
    "        A (List[Callable]): 激活函数列表\n",
    "        O (List[Callable]): 二元操作符函数列表\n",
    "        stock_num (int): 股票个数\n",
    "        max_lag (int, optional): 数据延迟最大取值. Defaults to 9.\n",
    "        l (int, optional): 交易延迟量,即观察到数据后不可能立马进行交易,需要等待l时间. Defaults to 1.\n",
    "        seed (int, optional): 随机数种子. Defaults to None.\n",
    "\n",
    "    Returns:\n",
    "        List: _description_\n",
    "    \"\"\"\n",
    "    def _formula_func(data: np.ndarray, active_func: callable,\n",
    "                      binary_oper: Callable, P: int, Q: int, F: int,\n",
    "                      D: int) -> float:\n",
    "        \"\"\"_summary_\n",
    "\n",
    "        Args:\n",
    "            data (np.ndarray): 传入数据0轴为股票 1为时间\n",
    "\n",
    "        \"\"\"\n",
    "\n",
    "        t = data.shape[1]  # 获取时间长度\n",
    "        if t < (max_lag + l):\n",
    "            raise ValueError('数据时间序列长度(t=%s)不能小于max_lag + l(max_lag+l=%s)!' %\n",
    "                             (t, max_lag + l))\n",
    "\n",
    "        # print('t=%s'%t)\n",
    "        # print('D=%s,F=%s'%(D,F))\n",
    "        # print('P=%s,Q=%s'%(P,Q))\n",
    "        # print('active_func:%s,binary_oper:%s'%(active_func.__name__,binary_oper.__name__))\n",
    "        # print(data)\n",
    "        # print(data[P][t - D], data[Q][t - F])\n",
    "\n",
    "        indices: np.ndarray = np.arange(max_lag + l, t)\n",
    "\n",
    "        x: np.ndarray = np.take(data[P], indices - D)\n",
    "\n",
    "        y: np.ndarray = np.take(data[Q], indices - F)\n",
    "\n",
    "        # return active_func(binary_oper(data[P][t - D], data[Q][t - F]))\n",
    "        return active_func(binary_oper(x, y))\n",
    "\n",
    "    if seed:\n",
    "\n",
    "        np.random.seed(seed)\n",
    "\n",
    "    m = np.random.choice(M)  # 根据M最大项数选择个数\n",
    "\n",
    "    # 构建延迟数\n",
    "    a = np.arange(1, max_lag + l + 1)  # 最少为1天\n",
    "    D: np.ndarray = np.random.choice(a, m)\n",
    "    F: np.ndarray = np.random.choice(a, m)\n",
    "\n",
    "    # 随机选择股票\n",
    "    P: np.ndarray = np.random.choice(stock_num, m)\n",
    "    Q: np.ndarray = np.random.choice(stock_num, m)\n",
    "\n",
    "    # 列表中存放构成公式的\"算子\"\n",
    "    formulae: np.ndarray = np.array(\n",
    "        [np.random.choice(A, m),\n",
    "         np.random.choice(O, m), P, Q, D, F],\n",
    "        dtype='object').T\n",
    "\n",
    "    # 列表中的func后续近仅需要传入data及对应的T即可得到返回值\n",
    "    formulae_ls_func: List[Callable] = [\n",
    "        functools.partial(_formula_func,\n",
    "                          active_func=row[0],\n",
    "                          binary_oper=row[1],\n",
    "                          P=row[2],\n",
    "                          Q=row[3],\n",
    "                          F=row[4],\n",
    "                          D=row[5]) for row in formulae\n",
    "    ]\n",
    "\n",
    "    return formulae_ls_func"
   ]
  },
  {
   "cell_type": "code",
   "execution_count": 87,
   "metadata": {},
   "outputs": [],
   "source": [
    "# 假设只有一个交易员\n",
    "# 第一个交易员的第0个股票的情况\n",
    "\n",
    "activation_funcs = [identity, ReLU, sign, tanh]\n",
    "binary_operators = [\n",
    "    operators_max, operators_min, operators_add,\n",
    "                                  operators_diff, get_x, get_y, operators_multiple, x_is_greater_than_y\n",
    "]\n",
    "\n",
    "# 一位trader的Theta\n",
    "formulate = create_formulae(10,activation_funcs,binary_operators,stock_num=2,max_lag=2,l=1,seed=42)\n",
    "# 生成初始权重数据\n",
    "w:np.ndarray = np.random.randn(len(formulate)) "
   ]
  },
  {
   "cell_type": "code",
   "execution_count": 88,
   "metadata": {},
   "outputs": [],
   "source": [
    "\n",
    "# t最少为max_lag+l+1\n",
    "p:List = []\n",
    "\n",
    "\n",
    "for num,formula in enumerate(formulate):\n",
    "    p.append(formula(data[:,:20]))\n",
    "    \n",
    "p:np.ndarray = np.vstack(p)"
   ]
  },
  {
   "cell_type": "code",
   "execution_count": 89,
   "metadata": {},
   "outputs": [],
   "source": [
    "def calc_hist_cum(data:np.ndarray,w:np.ndarray)->float:\n",
    "    \"\"\"计算历史累计收益\n",
    "\n",
    "    Args:\n",
    "        data (np.ndarray): theta计算结果\n",
    "        w (np.ndarray): 权重\n",
    "\n",
    "    Returns:\n",
    "        float: 累计收益\n",
    "    \"\"\"\n",
    "    return (data * w).sum()\n",
    "\n",
    "def aggregation_func(prediction_traders:np.ndarray,func:Callable):\n",
    "    pass\n",
    "    \n",
    "def ols_func(exog:np.ndarray,endog:np.ndarray)->np.ndarray:\n",
    "    \n",
    "    if len(exog.shape) > 1:\n",
    "        raise ValueError('exog仅能为向量.')\n",
    "    \n",
    "    A = np.vstack([np.ones(len(exog)),exog]).T\n",
    "    b, _ = np.linalg.lstsq(A,endog, rcond=None)[0]\n",
    "    return b"
   ]
  },
  {
   "cell_type": "code",
   "execution_count": 117,
   "metadata": {},
   "outputs": [
    {
     "data": {
      "text/plain": [
       "array([-0.17314906,  0.01484481, -0.04687716, -0.12872449, -0.28498504,\n",
       "       -0.05738728, -0.10800392, -0.11162071, -0.00650601,  0.20472095,\n",
       "       -0.21326281, -0.01067333,  0.12166111,  0.0436511 ,  0.01717523,\n",
       "       -0.14716824, -0.0195974 ])"
      ]
     },
     "execution_count": 117,
     "metadata": {},
     "output_type": "execute_result"
    }
   ],
   "source": [
    "p.T @ w"
   ]
  },
  {
   "cell_type": "code",
   "execution_count": 118,
   "metadata": {},
   "outputs": [
    {
     "data": {
      "text/plain": [
       "5"
      ]
     },
     "execution_count": 118,
     "metadata": {},
     "output_type": "execute_result"
    }
   ],
   "source": [
    "np.linalg.matrix_rank(p.T.dot(p))"
   ]
  },
  {
   "cell_type": "code",
   "execution_count": 146,
   "metadata": {},
   "outputs": [
    {
     "ename": "ValueError",
     "evalue": "shapes (17,7) and (17,) not aligned: 7 (dim 1) != 17 (dim 0)",
     "output_type": "error",
     "traceback": [
      "\u001b[1;31m---------------------------------------------------------------------------\u001b[0m",
      "\u001b[1;31mValueError\u001b[0m                                Traceback (most recent call last)",
      "\u001b[1;32m<ipython-input-146-b1b5048cca50>\u001b[0m in \u001b[0;36m<module>\u001b[1;34m\u001b[0m\n\u001b[0;32m      1\u001b[0m \u001b[0mepsilon\u001b[0m \u001b[1;33m=\u001b[0m \u001b[1;36m0.0001\u001b[0m\u001b[1;33m\u001b[0m\u001b[1;33m\u001b[0m\u001b[0m\n\u001b[0;32m      2\u001b[0m \u001b[0ma\u001b[0m \u001b[1;33m=\u001b[0m \u001b[0mA\u001b[0m\u001b[1;33m.\u001b[0m\u001b[0mT\u001b[0m\u001b[1;33m\u001b[0m\u001b[1;33m\u001b[0m\u001b[0m\n\u001b[1;32m----> 3\u001b[1;33m \u001b[0mnp\u001b[0m\u001b[1;33m.\u001b[0m\u001b[0mlinalg\u001b[0m\u001b[1;33m.\u001b[0m\u001b[0minv\u001b[0m\u001b[1;33m(\u001b[0m\u001b[0ma\u001b[0m\u001b[1;33m.\u001b[0m\u001b[0mT\u001b[0m\u001b[1;33m.\u001b[0m\u001b[0mdot\u001b[0m\u001b[1;33m(\u001b[0m\u001b[0ma\u001b[0m\u001b[1;33m)\u001b[0m\u001b[1;33m+\u001b[0m\u001b[0mepsilon\u001b[0m\u001b[1;33m)\u001b[0m\u001b[1;33m.\u001b[0m\u001b[0mdot\u001b[0m\u001b[1;33m(\u001b[0m\u001b[0ma\u001b[0m\u001b[1;33m.\u001b[0m\u001b[0mT\u001b[0m\u001b[1;33m)\u001b[0m\u001b[1;33m.\u001b[0m\u001b[0mdot\u001b[0m\u001b[1;33m(\u001b[0m\u001b[0mdata\u001b[0m\u001b[1;33m[\u001b[0m\u001b[1;36m0\u001b[0m\u001b[1;33m,\u001b[0m\u001b[1;33m:\u001b[0m\u001b[1;36m17\u001b[0m\u001b[1;33m]\u001b[0m\u001b[1;33m)\u001b[0m\u001b[1;33m\u001b[0m\u001b[1;33m\u001b[0m\u001b[0m\n\u001b[0m",
      "\u001b[1;31mValueError\u001b[0m: shapes (17,7) and (17,) not aligned: 7 (dim 1) != 17 (dim 0)"
     ]
    }
   ],
   "source": [
    "epsilon = 0.0001\n",
    "a = A.T\n",
    "np.linalg.inv(a.T.dot(a)+epsilon).dot(a.T).dot(data[0,:17])"
   ]
  },
  {
   "cell_type": "code",
   "execution_count": 150,
   "metadata": {},
   "outputs": [
    {
     "ename": "ValueError",
     "evalue": "shapes (17,7) and (17,) not aligned: 7 (dim 1) != 17 (dim 0)",
     "output_type": "error",
     "traceback": [
      "\u001b[1;31m---------------------------------------------------------------------------\u001b[0m",
      "\u001b[1;31mValueError\u001b[0m                                Traceback (most recent call last)",
      "\u001b[1;32m<ipython-input-150-a1bea9be7070>\u001b[0m in \u001b[0;36m<module>\u001b[1;34m\u001b[0m\n\u001b[1;32m----> 1\u001b[1;33m \u001b[0mnp\u001b[0m\u001b[1;33m.\u001b[0m\u001b[0mlinalg\u001b[0m\u001b[1;33m.\u001b[0m\u001b[0minv\u001b[0m\u001b[1;33m(\u001b[0m\u001b[0ma\u001b[0m\u001b[1;33m.\u001b[0m\u001b[0mT\u001b[0m\u001b[1;33m.\u001b[0m\u001b[0mdot\u001b[0m\u001b[1;33m(\u001b[0m\u001b[0ma\u001b[0m\u001b[1;33m)\u001b[0m\u001b[1;33m+\u001b[0m\u001b[0mepsilon\u001b[0m\u001b[1;33m)\u001b[0m\u001b[1;33m.\u001b[0m\u001b[0mdot\u001b[0m\u001b[1;33m(\u001b[0m\u001b[0ma\u001b[0m\u001b[1;33m.\u001b[0m\u001b[0mT\u001b[0m\u001b[1;33m)\u001b[0m\u001b[1;33m.\u001b[0m\u001b[0mdot\u001b[0m\u001b[1;33m(\u001b[0m\u001b[0mdata\u001b[0m\u001b[1;33m[\u001b[0m\u001b[1;36m0\u001b[0m\u001b[1;33m,\u001b[0m\u001b[1;33m:\u001b[0m\u001b[1;36m17\u001b[0m\u001b[1;33m]\u001b[0m\u001b[1;33m)\u001b[0m\u001b[1;33m\u001b[0m\u001b[1;33m\u001b[0m\u001b[0m\n\u001b[0m",
      "\u001b[1;31mValueError\u001b[0m: shapes (17,7) and (17,) not aligned: 7 (dim 1) != 17 (dim 0)"
     ]
    }
   ],
   "source": [
    "np.linalg.inv(a.T.dot(a)+epsilon).dot(a.T).dot(data[0,:17])"
   ]
  },
  {
   "cell_type": "code",
   "execution_count": 147,
   "metadata": {},
   "outputs": [
    {
     "data": {
      "text/plain": [
       "array([ 0.06554018, -0.08846648,  0.13208644,  0.11443659,  0.23194131,\n",
       "       -0.0324148 ,  0.07467131, -0.14399052,  0.03352619, -0.07730177,\n",
       "        0.1455955 ,  0.01785697, -0.00161525, -0.01746369, -0.0615875 ,\n",
       "       -0.04469934, -0.03764893])"
      ]
     },
     "execution_count": 147,
     "metadata": {},
     "output_type": "execute_result"
    }
   ],
   "source": [
    "data[0,:17]"
   ]
  },
  {
   "cell_type": "code",
   "execution_count": 140,
   "metadata": {},
   "outputs": [],
   "source": [
    "import statsmodels.api as sm "
   ]
  },
  {
   "cell_type": "code",
   "execution_count": 143,
   "metadata": {},
   "outputs": [
    {
     "name": "stderr",
     "output_type": "stream",
     "text": [
      "d:\\anaconda3\\lib\\site-packages\\scipy\\stats\\stats.py:1603: UserWarning: kurtosistest only valid for n>=20 ... continuing anyway, n=17\n",
      "  warnings.warn(\"kurtosistest only valid for n>=20 ... continuing \"\n"
     ]
    },
    {
     "data": {
      "text/html": [
       "<table class=\"simpletable\">\n",
       "<caption>OLS Regression Results</caption>\n",
       "<tr>\n",
       "  <th>Dep. Variable:</th>            <td>y</td>        <th>  R-squared:         </th> <td>   0.837</td>\n",
       "</tr>\n",
       "<tr>\n",
       "  <th>Model:</th>                   <td>OLS</td>       <th>  Adj. R-squared:    </th> <td>   0.764</td>\n",
       "</tr>\n",
       "<tr>\n",
       "  <th>Method:</th>             <td>Least Squares</td>  <th>  F-statistic:       </th> <td>   11.33</td>\n",
       "</tr>\n",
       "<tr>\n",
       "  <th>Date:</th>             <td>Mon, 20 Jun 2022</td> <th>  Prob (F-statistic):</th> <td>0.000483</td>\n",
       "</tr>\n",
       "<tr>\n",
       "  <th>Time:</th>                 <td>17:12:46</td>     <th>  Log-Likelihood:    </th> <td>  31.288</td>\n",
       "</tr>\n",
       "<tr>\n",
       "  <th>No. Observations:</th>      <td>    17</td>      <th>  AIC:               </th> <td>  -50.58</td>\n",
       "</tr>\n",
       "<tr>\n",
       "  <th>Df Residuals:</th>          <td>    11</td>      <th>  BIC:               </th> <td>  -45.58</td>\n",
       "</tr>\n",
       "<tr>\n",
       "  <th>Df Model:</th>              <td>     5</td>      <th>                     </th>     <td> </td>   \n",
       "</tr>\n",
       "<tr>\n",
       "  <th>Covariance Type:</th>      <td>nonrobust</td>    <th>                     </th>     <td> </td>   \n",
       "</tr>\n",
       "</table>\n",
       "<table class=\"simpletable\">\n",
       "<tr>\n",
       "    <td></td>       <th>coef</th>     <th>std err</th>      <th>t</th>      <th>P>|t|</th>  <th>[0.025</th>    <th>0.975]</th>  \n",
       "</tr>\n",
       "<tr>\n",
       "  <th>const</th> <td>   -0.0438</td> <td>    0.029</td> <td>   -1.529</td> <td> 0.154</td> <td>   -0.107</td> <td>    0.019</td>\n",
       "</tr>\n",
       "<tr>\n",
       "  <th>x1</th>    <td>   -0.2816</td> <td>    0.433</td> <td>   -0.650</td> <td> 0.529</td> <td>   -1.235</td> <td>    0.672</td>\n",
       "</tr>\n",
       "<tr>\n",
       "  <th>x2</th>    <td>    0.0814</td> <td>    0.356</td> <td>    0.229</td> <td> 0.823</td> <td>   -0.703</td> <td>    0.865</td>\n",
       "</tr>\n",
       "<tr>\n",
       "  <th>x3</th>    <td>-2.352e-16</td> <td>  9.5e-17</td> <td>   -2.477</td> <td> 0.031</td> <td>-4.44e-16</td> <td>-2.62e-17</td>\n",
       "</tr>\n",
       "<tr>\n",
       "  <th>x4</th>    <td>    1.1188</td> <td>    0.180</td> <td>    6.216</td> <td> 0.000</td> <td>    0.723</td> <td>    1.515</td>\n",
       "</tr>\n",
       "<tr>\n",
       "  <th>x5</th>    <td>   -0.8095</td> <td>    0.567</td> <td>   -1.427</td> <td> 0.181</td> <td>   -2.058</td> <td>    0.439</td>\n",
       "</tr>\n",
       "<tr>\n",
       "  <th>x6</th>    <td>    0.4021</td> <td>    0.189</td> <td>    2.130</td> <td> 0.057</td> <td>   -0.013</td> <td>    0.818</td>\n",
       "</tr>\n",
       "</table>\n",
       "<table class=\"simpletable\">\n",
       "<tr>\n",
       "  <th>Omnibus:</th>       <td> 6.536</td> <th>  Durbin-Watson:     </th> <td>   1.619</td>\n",
       "</tr>\n",
       "<tr>\n",
       "  <th>Prob(Omnibus):</th> <td> 0.038</td> <th>  Jarque-Bera (JB):  </th> <td>   3.642</td>\n",
       "</tr>\n",
       "<tr>\n",
       "  <th>Skew:</th>          <td>-0.961</td> <th>  Prob(JB):          </th> <td>   0.162</td>\n",
       "</tr>\n",
       "<tr>\n",
       "  <th>Kurtosis:</th>      <td> 4.204</td> <th>  Cond. No.          </th> <td>2.72e+17</td>\n",
       "</tr>\n",
       "</table><br/><br/>Notes:<br/>[1] Standard Errors assume that the covariance matrix of the errors is correctly specified.<br/>[2] The smallest eigenvalue is 2.31e-34. This might indicate that there are<br/>strong multicollinearity problems or that the design matrix is singular."
      ],
      "text/plain": [
       "<class 'statsmodels.iolib.summary.Summary'>\n",
       "\"\"\"\n",
       "                            OLS Regression Results                            \n",
       "==============================================================================\n",
       "Dep. Variable:                      y   R-squared:                       0.837\n",
       "Model:                            OLS   Adj. R-squared:                  0.764\n",
       "Method:                 Least Squares   F-statistic:                     11.33\n",
       "Date:                Mon, 20 Jun 2022   Prob (F-statistic):           0.000483\n",
       "Time:                        17:12:46   Log-Likelihood:                 31.288\n",
       "No. Observations:                  17   AIC:                            -50.58\n",
       "Df Residuals:                      11   BIC:                            -45.58\n",
       "Df Model:                           5                                         \n",
       "Covariance Type:            nonrobust                                         \n",
       "==============================================================================\n",
       "                 coef    std err          t      P>|t|      [0.025      0.975]\n",
       "------------------------------------------------------------------------------\n",
       "const         -0.0438      0.029     -1.529      0.154      -0.107       0.019\n",
       "x1            -0.2816      0.433     -0.650      0.529      -1.235       0.672\n",
       "x2             0.0814      0.356      0.229      0.823      -0.703       0.865\n",
       "x3         -2.352e-16    9.5e-17     -2.477      0.031   -4.44e-16   -2.62e-17\n",
       "x4             1.1188      0.180      6.216      0.000       0.723       1.515\n",
       "x5            -0.8095      0.567     -1.427      0.181      -2.058       0.439\n",
       "x6             0.4021      0.189      2.130      0.057      -0.013       0.818\n",
       "==============================================================================\n",
       "Omnibus:                        6.536   Durbin-Watson:                   1.619\n",
       "Prob(Omnibus):                  0.038   Jarque-Bera (JB):                3.642\n",
       "Skew:                          -0.961   Prob(JB):                        0.162\n",
       "Kurtosis:                       4.204   Cond. No.                     2.72e+17\n",
       "==============================================================================\n",
       "\n",
       "Notes:\n",
       "[1] Standard Errors assume that the covariance matrix of the errors is correctly specified.\n",
       "[2] The smallest eigenvalue is 2.31e-34. This might indicate that there are\n",
       "strong multicollinearity problems or that the design matrix is singular.\n",
       "\"\"\""
      ]
     },
     "execution_count": 143,
     "metadata": {},
     "output_type": "execute_result"
    }
   ],
   "source": [
    "sm.OLS(data[0,:17],A).fit().summary()"
   ]
  },
  {
   "cell_type": "code",
   "execution_count": 139,
   "metadata": {},
   "outputs": [
    {
     "data": {
      "text/plain": [
       "(array([-4.38247063e-02, -2.81594789e-01,  8.14146369e-02, -2.22044605e-16,\n",
       "         1.11879821e+00, -8.09482362e-01,  4.02128730e-01]),\n",
       " array([], dtype=float64),\n",
       " 6,\n",
       " array([4.14166877e+00, 5.67269350e-01, 3.57327003e-01, 2.37673165e-01,\n",
       "        1.63702956e-01, 6.41113015e-02, 1.52026312e-17]))"
      ]
     },
     "execution_count": 139,
     "metadata": {},
     "output_type": "execute_result"
    }
   ],
   "source": [
    "np.linalg.lstsq(A,data[0,:17],rcond=-1)"
   ]
  },
  {
   "cell_type": "markdown",
   "metadata": {},
   "source": [
    "# 设置数据"
   ]
  },
  {
   "cell_type": "code",
   "execution_count": 73,
   "metadata": {},
   "outputs": [],
   "source": [
    "def create_dataset(T, sigma_t):\n",
    "    def simulation(y_t, sigma):\n",
    "        y_t1 = np.zeros(2)\n",
    "        y_t1[0] = 1.0 * tanh(\n",
    "            y_t[0]) + 0.8 * y_t[0] * y_t[1] + 1.0 * y_t[1] - 1.0 * ReLU(\n",
    "                min(y_t[0], y_t[1])) + sigma * np.random.randn()\n",
    "        y_t1[1] = +0.6 * sign(y_t[1]) + 0.5 * y_t[0] * y_t[1] - 1.0 * max(\n",
    "            y_t[0], y_t[1]) + sigma * np.random.randn()\n",
    "        return y_t1\n",
    "\n",
    "    y = np.zeros((2, T))\n",
    "    y_without_noise = np.zeros((2, T))\n",
    "    y[:, 0] = np.array([0.1, 0.1])\n",
    "    y_without_noise[:, 0] = np.array([0.1, 0.1])\n",
    "\n",
    "    for t in range(1, T):\n",
    "        y[:, t] = simulation(y[:, t - 1], sigma_t)\n",
    "        y_without_noise[:, t] = simulation(y[:, t - 1], 0.0)\n",
    "\n",
    "    plt.plot(y[0], color=\"#cc0000\", label=\"stock0\")\n",
    "    plt.plot(y[1], color=\"#083090\", label=\"stock1\")\n",
    "    plt.plot(y_without_noise[0],\n",
    "             color=\"#cc0000\",\n",
    "             linestyle=\"--\",\n",
    "             label=\"stock0\" + \"(w/o noise)\")\n",
    "    plt.plot(y_without_noise[1],\n",
    "             color=\"#083090\",\n",
    "             linestyle=\"--\",\n",
    "             label=\"stock1\" + \"(w/o noise)\")\n",
    "    plt.xlabel(\"time\", fontsize=18)\n",
    "    plt.ylabel(\"y\", fontsize=18)\n",
    "    plt.xlim([T - 100, T])\n",
    "    plt.legend()\n",
    "    plt.show()\n",
    "    plt.close()\n",
    "\n",
    "    return y, y_without_noise"
   ]
  },
  {
   "cell_type": "code",
   "execution_count": 74,
   "metadata": {},
   "outputs": [
    {
     "data": {
      "image/png": "[encoded data removed]",
      "text/plain": [
       "<Figure size 432x288 with 1 Axes>"
      ]
     },
     "metadata": {
      "needs_background": "light"
     },
     "output_type": "display_data"
    }
   ],
   "source": [
    "sigma = 0.1\n",
    "T_total = 500\n",
    "y, y_without_noise = create_dataset(T_total, sigma)"
   ]
  },
  {
   "cell_type": "code",
   "execution_count": 75,
   "metadata": {},
   "outputs": [
    {
     "data": {
      "text/html": [
       "<div>\n",
       "<style scoped>\n",
       "    .dataframe tbody tr th:only-of-type {\n",
       "        vertical-align: middle;\n",
       "    }\n",
       "\n",
       "    .dataframe tbody tr th {\n",
       "        vertical-align: top;\n",
       "    }\n",
       "\n",
       "    .dataframe thead th {\n",
       "        text-align: right;\n",
       "    }\n",
       "</style>\n",
       "<table border=\"1\" class=\"dataframe\">\n",
       "  <thead>\n",
       "    <tr style=\"text-align: right;\">\n",
       "      <th></th>\n",
       "      <th>stock0</th>\n",
       "      <th>stock1</th>\n",
       "    </tr>\n",
       "  </thead>\n",
       "  <tbody>\n",
       "    <tr>\n",
       "      <th>0</th>\n",
       "      <td>0.100000</td>\n",
       "      <td>0.100000</td>\n",
       "    </tr>\n",
       "    <tr>\n",
       "      <th>1</th>\n",
       "      <td>0.006385</td>\n",
       "      <td>0.536425</td>\n",
       "    </tr>\n",
       "    <tr>\n",
       "      <th>2</th>\n",
       "      <td>0.685730</td>\n",
       "      <td>0.042710</td>\n",
       "    </tr>\n",
       "    <tr>\n",
       "      <th>3</th>\n",
       "      <td>0.564223</td>\n",
       "      <td>-0.059993</td>\n",
       "    </tr>\n",
       "    <tr>\n",
       "      <th>4</th>\n",
       "      <td>0.363967</td>\n",
       "      <td>-0.610318</td>\n",
       "    </tr>\n",
       "  </tbody>\n",
       "</table>\n",
       "</div>"
      ],
      "text/plain": [
       "     stock0    stock1\n",
       "0  0.100000  0.100000\n",
       "1  0.006385  0.536425\n",
       "2  0.685730  0.042710\n",
       "3  0.564223 -0.059993\n",
       "4  0.363967 -0.610318"
      ]
     },
     "execution_count": 75,
     "metadata": {},
     "output_type": "execute_result"
    }
   ],
   "source": [
    "df_y = pd.DataFrame(y, index=[\"stock0\", \"stock1\"]).T\n",
    "\n",
    "df_y.head()"
   ]
  },
  {
   "cell_type": "markdown",
   "metadata": {},
   "source": [
    "# 训练"
   ]
  },
  {
   "cell_type": "code",
   "execution_count": 76,
   "metadata": {},
   "outputs": [],
   "source": [
    "activation_funcs = [identity, ReLU, sign, tanh]\n",
    "binary_operators = [\n",
    "    operators_max, operators_min, operators_add, operators_diff, get_x, get_y,\n",
    "    operators_multiple, x_is_greater_than_y\n",
    "]\n",
    "\n",
    "stock_names = [\"stock0\", \"stock1\"]\n",
    "time_window = 200\n",
    "delay_time_max = 2\n",
    "num_factors_max = 4\n",
    "\n",
    "model = Company(stock_names,\n",
    "                num_factors_max,\n",
    "                delay_time_max,\n",
    "                activation_funcs,\n",
    "                binary_operators,\n",
    "                num_traders=40,\n",
    "                Q=0.2,\n",
    "                time_window=time_window,\n",
    "                how_recruit=\"random\")"
   ]
  },
  {
   "cell_type": "code",
   "execution_count": 77,
   "metadata": {},
   "outputs": [],
   "source": [
    "T_train = 400\n",
    "df_y_train = df_y.iloc[:T_train, :]\n",
    "df_y_test = df_y.iloc[T_train:, :]"
   ]
  },
  {
   "cell_type": "code",
   "execution_count": 78,
   "metadata": {},
   "outputs": [
    {
     "name": "stderr",
     "output_type": "stream",
     "text": [
      "100%|██████████| 397/397 [02:26<00:00,  2.70it/s] \n"
     ]
    }
   ],
   "source": [
    "model.fit(df_y_train)"
   ]
  },
  {
   "cell_type": "code",
   "execution_count": 32,
   "metadata": {},
   "outputs": [
    {
     "data": {
      "text/plain": [
       "array([0.01194506, 0.        ])"
      ]
     },
     "execution_count": 32,
     "metadata": {},
     "output_type": "execute_result"
    }
   ],
   "source": [
    "model.aggregate()"
   ]
  },
  {
   "cell_type": "code",
   "execution_count": 113,
   "metadata": {},
   "outputs": [
    {
     "data": {
      "text/plain": [
       "array([-0.65257574, -1.0403775 , -1.11805503, -1.06680376, -0.92886951,\n",
       "       -0.71981898, -0.43354117,  0.12877966,  0.23427974,  0.45572782,\n",
       "        0.33005764,  0.19549245,  0.3625305 ,  0.18080652, -0.05725416,\n",
       "        0.0190606 , -0.00974848,  0.08079309, -0.01521828, -0.31900824,\n",
       "       -0.74308221, -1.17732185, -1.06212834, -0.44840236,  0.21822674,\n",
       "        0.2153747 ,  0.38427558,  0.2283021 ,  0.13593424,  0.01666133,\n",
       "       -0.1113244 , -0.15161978, -0.37947188, -0.65546536, -1.02474106,\n",
       "       -0.88124834, -0.81172995, -0.99316088, -1.14028301, -1.05887443,\n",
       "       -0.56509165,  0.50593774,  0.09784648,  0.89187488,  0.29935443,\n",
       "        0.71273439,  0.16058468,  0.56421745,  0.16598907,  0.07185967,\n",
       "       -0.21533256, -0.63203505, -0.68171907, -0.96533636, -1.14476559,\n",
       "       -0.74388403,  0.42936535,  0.12237527,  0.75706153,  0.16056152,\n",
       "        0.52169713,  0.14572928,  0.3304663 ,  0.183821  ,  0.23223986,\n",
       "        0.08034096,  0.11211194, -0.16529682, -0.37592175, -0.80812967,\n",
       "       -0.90313898, -0.8652766 , -0.40661325,  0.48681776,  0.09269554,\n",
       "        0.90531864,  0.22371784,  0.59010746,  0.28033573,  0.0795163 ,\n",
       "       -0.06298984, -0.58682246, -0.78618052, -0.82217962, -1.01764123,\n",
       "       -0.95851208, -0.24158751,  0.25684078,  0.13048504,  0.22420122,\n",
       "        0.00564495,  0.20455787,  0.01030807,  0.16711714,  0.01135959,\n",
       "        0.14434431,  0.23750562,  0.02688116, -0.02602241, -0.41374828,\n",
       "       -0.43588272, -0.82759373, -0.70294283, -0.65979392, -0.90319181,\n",
       "       -1.18063215, -1.47924678, -1.14782033,  0.60873478,  0.01979203,\n",
       "        0.94955413,  0.21006424,  0.85273698,  0.08211565,  0.87839471,\n",
       "        0.18150164,  0.87304196,  0.19555374,  0.76900586,  0.23489615,\n",
       "        0.61995529,  0.30458572,  0.27031615,  0.23077046, -0.17107978,\n",
       "       -0.53864997, -0.95560733, -0.54166002,  0.21232442,  0.33758948,\n",
       "        0.46533582,  0.24406258,  0.42400219,  0.30869244,  0.27296661,\n",
       "        0.0951003 ,  0.13593961, -0.07568732, -0.10310544,  0.00604309,\n",
       "        0.29250612,  0.23944231,  0.31490054, -0.03745514, -0.17697506,\n",
       "       -0.80706636, -0.79861129, -0.67567202, -0.68840427, -0.79233959,\n",
       "       -0.96152943, -1.05024451, -1.19328604, -0.90283921, -0.10669723,\n",
       "        0.35984702,  0.28083525,  0.27802555,  0.09162826, -0.29502988,\n",
       "       -0.75878913, -1.08264965, -1.23241745, -0.38025568,  0.49444882,\n",
       "        0.30216761,  0.42495083,  0.18248308,  0.12580628, -0.24343947,\n",
       "       -0.33464141, -1.04239884, -1.22840849, -0.7431702 ,  0.39920776,\n",
       "        0.19878179,  0.67878941,  0.17451257,  0.30590815,  0.03644566,\n",
       "       -0.05335756, -0.4347617 , -0.66885075, -0.87512116, -1.07461344,\n",
       "       -1.03952413, -0.63294727,  0.34970605,  0.16967867,  0.7523351 ,\n",
       "        0.19491965,  0.60059914,  0.25157913,  0.38597243,  0.07547157,\n",
       "        0.10977547, -0.45248504, -0.67320302, -1.07398849, -0.30531359])"
      ]
     },
     "execution_count": 113,
     "metadata": {},
     "output_type": "execute_result"
    }
   ],
   "source": [
    "model.traders[0].X_factors[0] @ model.traders[0].w[0]"
   ]
  },
  {
   "cell_type": "code",
   "execution_count": 110,
   "metadata": {},
   "outputs": [
    {
     "data": {
      "text/plain": [
       "(200, 3)"
      ]
     },
     "execution_count": 110,
     "metadata": {},
     "output_type": "execute_result"
    }
   ],
   "source": [
    "model.traders[0].X_factors[0].shape"
   ]
  },
  {
   "cell_type": "code",
   "execution_count": 171,
   "metadata": {},
   "outputs": [],
   "source": [
    "# for i,trader_model in enumerate(model.traders):\n",
    "\n",
    "#     print(i,len(trader_model.num_factors))"
   ]
  },
  {
   "cell_type": "markdown",
   "metadata": {},
   "source": [
    "# 测试"
   ]
  },
  {
   "cell_type": "code",
   "execution_count": 33,
   "metadata": {},
   "outputs": [
    {
     "data": {
      "application/vnd.jupyter.widget-view+json": {
       "model_id": "f37a4ede9ef1426a9dacb14ab9976498",
       "version_major": 2,
       "version_minor": 0
      },
      "text/plain": [
       "0it [00:00, ?it/s]"
      ]
     },
     "metadata": {},
     "output_type": "display_data"
    },
    {
     "name": "stderr",
     "output_type": "stream",
     "text": [
      "C:\\Users\\华思远\\AppData\\Local\\Temp\\ipykernel_23356\\723388215.py:73: FutureWarning: The frame.append method is deprecated and will be removed from pandas in a future version. Use pandas.concat instead.\n",
      "  self.df_y_train = self.df_y_train.append(dict_y, ignore_index=True)\n",
      "C:\\Users\\华思远\\AppData\\Local\\Temp\\ipykernel_23356\\723388215.py:73: FutureWarning: The frame.append method is deprecated and will be removed from pandas in a future version. Use pandas.concat instead.\n",
      "  self.df_y_train = self.df_y_train.append(dict_y, ignore_index=True)\n",
      "C:\\Users\\华思远\\AppData\\Local\\Temp\\ipykernel_23356\\723388215.py:73: FutureWarning: The frame.append method is deprecated and will be removed from pandas in a future version. Use pandas.concat instead.\n",
      "  self.df_y_train = self.df_y_train.append(dict_y, ignore_index=True)\n",
      "C:\\Users\\华思远\\AppData\\Local\\Temp\\ipykernel_23356\\723388215.py:73: FutureWarning: The frame.append method is deprecated and will be removed from pandas in a future version. Use pandas.concat instead.\n",
      "  self.df_y_train = self.df_y_train.append(dict_y, ignore_index=True)\n",
      "C:\\Users\\华思远\\AppData\\Local\\Temp\\ipykernel_23356\\723388215.py:73: FutureWarning: The frame.append method is deprecated and will be removed from pandas in a future version. Use pandas.concat instead.\n",
      "  self.df_y_train = self.df_y_train.append(dict_y, ignore_index=True)\n",
      "C:\\Users\\华思远\\AppData\\Local\\Temp\\ipykernel_23356\\723388215.py:73: FutureWarning: The frame.append method is deprecated and will be removed from pandas in a future version. Use pandas.concat instead.\n",
      "  self.df_y_train = self.df_y_train.append(dict_y, ignore_index=True)\n",
      "C:\\Users\\华思远\\AppData\\Local\\Temp\\ipykernel_23356\\723388215.py:73: FutureWarning: The frame.append method is deprecated and will be removed from pandas in a future version. Use pandas.concat instead.\n",
      "  self.df_y_train = self.df_y_train.append(dict_y, ignore_index=True)\n",
      "C:\\Users\\华思远\\AppData\\Local\\Temp\\ipykernel_23356\\723388215.py:73: FutureWarning: The frame.append method is deprecated and will be removed from pandas in a future version. Use pandas.concat instead.\n",
      "  self.df_y_train = self.df_y_train.append(dict_y, ignore_index=True)\n",
      "C:\\Users\\华思远\\AppData\\Local\\Temp\\ipykernel_23356\\723388215.py:73: FutureWarning: The frame.append method is deprecated and will be removed from pandas in a future version. Use pandas.concat instead.\n",
      "  self.df_y_train = self.df_y_train.append(dict_y, ignore_index=True)\n",
      "C:\\Users\\华思远\\AppData\\Local\\Temp\\ipykernel_23356\\723388215.py:73: FutureWarning: The frame.append method is deprecated and will be removed from pandas in a future version. Use pandas.concat instead.\n",
      "  self.df_y_train = self.df_y_train.append(dict_y, ignore_index=True)\n",
      "C:\\Users\\华思远\\AppData\\Local\\Temp\\ipykernel_23356\\723388215.py:73: FutureWarning: The frame.append method is deprecated and will be removed from pandas in a future version. Use pandas.concat instead.\n",
      "  self.df_y_train = self.df_y_train.append(dict_y, ignore_index=True)\n",
      "C:\\Users\\华思远\\AppData\\Local\\Temp\\ipykernel_23356\\723388215.py:73: FutureWarning: The frame.append method is deprecated and will be removed from pandas in a future version. Use pandas.concat instead.\n",
      "  self.df_y_train = self.df_y_train.append(dict_y, ignore_index=True)\n",
      "C:\\Users\\华思远\\AppData\\Local\\Temp\\ipykernel_23356\\723388215.py:73: FutureWarning: The frame.append method is deprecated and will be removed from pandas in a future version. Use pandas.concat instead.\n",
      "  self.df_y_train = self.df_y_train.append(dict_y, ignore_index=True)\n",
      "C:\\Users\\华思远\\AppData\\Local\\Temp\\ipykernel_23356\\723388215.py:73: FutureWarning: The frame.append method is deprecated and will be removed from pandas in a future version. Use pandas.concat instead.\n",
      "  self.df_y_train = self.df_y_train.append(dict_y, ignore_index=True)\n",
      "C:\\Users\\华思远\\AppData\\Local\\Temp\\ipykernel_23356\\723388215.py:73: FutureWarning: The frame.append method is deprecated and will be removed from pandas in a future version. Use pandas.concat instead.\n",
      "  self.df_y_train = self.df_y_train.append(dict_y, ignore_index=True)\n",
      "C:\\Users\\华思远\\AppData\\Local\\Temp\\ipykernel_23356\\723388215.py:73: FutureWarning: The frame.append method is deprecated and will be removed from pandas in a future version. Use pandas.concat instead.\n",
      "  self.df_y_train = self.df_y_train.append(dict_y, ignore_index=True)\n",
      "C:\\Users\\华思远\\AppData\\Local\\Temp\\ipykernel_23356\\723388215.py:73: FutureWarning: The frame.append method is deprecated and will be removed from pandas in a future version. Use pandas.concat instead.\n",
      "  self.df_y_train = self.df_y_train.append(dict_y, ignore_index=True)\n",
      "C:\\Users\\华思远\\AppData\\Local\\Temp\\ipykernel_23356\\723388215.py:73: FutureWarning: The frame.append method is deprecated and will be removed from pandas in a future version. Use pandas.concat instead.\n",
      "  self.df_y_train = self.df_y_train.append(dict_y, ignore_index=True)\n",
      "C:\\Users\\华思远\\AppData\\Local\\Temp\\ipykernel_23356\\723388215.py:73: FutureWarning: The frame.append method is deprecated and will be removed from pandas in a future version. Use pandas.concat instead.\n",
      "  self.df_y_train = self.df_y_train.append(dict_y, ignore_index=True)\n",
      "C:\\Users\\华思远\\AppData\\Local\\Temp\\ipykernel_23356\\723388215.py:73: FutureWarning: The frame.append method is deprecated and will be removed from pandas in a future version. Use pandas.concat instead.\n",
      "  self.df_y_train = self.df_y_train.append(dict_y, ignore_index=True)\n",
      "C:\\Users\\华思远\\AppData\\Local\\Temp\\ipykernel_23356\\723388215.py:73: FutureWarning: The frame.append method is deprecated and will be removed from pandas in a future version. Use pandas.concat instead.\n",
      "  self.df_y_train = self.df_y_train.append(dict_y, ignore_index=True)\n",
      "C:\\Users\\华思远\\AppData\\Local\\Temp\\ipykernel_23356\\723388215.py:73: FutureWarning: The frame.append method is deprecated and will be removed from pandas in a future version. Use pandas.concat instead.\n",
      "  self.df_y_train = self.df_y_train.append(dict_y, ignore_index=True)\n",
      "C:\\Users\\华思远\\AppData\\Local\\Temp\\ipykernel_23356\\723388215.py:73: FutureWarning: The frame.append method is deprecated and will be removed from pandas in a future version. Use pandas.concat instead.\n",
      "  self.df_y_train = self.df_y_train.append(dict_y, ignore_index=True)\n",
      "C:\\Users\\华思远\\AppData\\Local\\Temp\\ipykernel_23356\\723388215.py:73: FutureWarning: The frame.append method is deprecated and will be removed from pandas in a future version. Use pandas.concat instead.\n",
      "  self.df_y_train = self.df_y_train.append(dict_y, ignore_index=True)\n",
      "C:\\Users\\华思远\\AppData\\Local\\Temp\\ipykernel_23356\\723388215.py:73: FutureWarning: The frame.append method is deprecated and will be removed from pandas in a future version. Use pandas.concat instead.\n",
      "  self.df_y_train = self.df_y_train.append(dict_y, ignore_index=True)\n",
      "C:\\Users\\华思远\\AppData\\Local\\Temp\\ipykernel_23356\\723388215.py:73: FutureWarning: The frame.append method is deprecated and will be removed from pandas in a future version. Use pandas.concat instead.\n",
      "  self.df_y_train = self.df_y_train.append(dict_y, ignore_index=True)\n",
      "C:\\Users\\华思远\\AppData\\Local\\Temp\\ipykernel_23356\\723388215.py:73: FutureWarning: The frame.append method is deprecated and will be removed from pandas in a future version. Use pandas.concat instead.\n",
      "  self.df_y_train = self.df_y_train.append(dict_y, ignore_index=True)\n",
      "C:\\Users\\华思远\\AppData\\Local\\Temp\\ipykernel_23356\\723388215.py:73: FutureWarning: The frame.append method is deprecated and will be removed from pandas in a future version. Use pandas.concat instead.\n",
      "  self.df_y_train = self.df_y_train.append(dict_y, ignore_index=True)\n",
      "C:\\Users\\华思远\\AppData\\Local\\Temp\\ipykernel_23356\\723388215.py:73: FutureWarning: The frame.append method is deprecated and will be removed from pandas in a future version. Use pandas.concat instead.\n",
      "  self.df_y_train = self.df_y_train.append(dict_y, ignore_index=True)\n",
      "C:\\Users\\华思远\\AppData\\Local\\Temp\\ipykernel_23356\\723388215.py:73: FutureWarning: The frame.append method is deprecated and will be removed from pandas in a future version. Use pandas.concat instead.\n",
      "  self.df_y_train = self.df_y_train.append(dict_y, ignore_index=True)\n",
      "C:\\Users\\华思远\\AppData\\Local\\Temp\\ipykernel_23356\\723388215.py:73: FutureWarning: The frame.append method is deprecated and will be removed from pandas in a future version. Use pandas.concat instead.\n",
      "  self.df_y_train = self.df_y_train.append(dict_y, ignore_index=True)\n",
      "C:\\Users\\华思远\\AppData\\Local\\Temp\\ipykernel_23356\\723388215.py:73: FutureWarning: The frame.append method is deprecated and will be removed from pandas in a future version. Use pandas.concat instead.\n",
      "  self.df_y_train = self.df_y_train.append(dict_y, ignore_index=True)\n",
      "C:\\Users\\华思远\\AppData\\Local\\Temp\\ipykernel_23356\\723388215.py:73: FutureWarning: The frame.append method is deprecated and will be removed from pandas in a future version. Use pandas.concat instead.\n",
      "  self.df_y_train = self.df_y_train.append(dict_y, ignore_index=True)\n",
      "C:\\Users\\华思远\\AppData\\Local\\Temp\\ipykernel_23356\\723388215.py:73: FutureWarning: The frame.append method is deprecated and will be removed from pandas in a future version. Use pandas.concat instead.\n",
      "  self.df_y_train = self.df_y_train.append(dict_y, ignore_index=True)\n",
      "C:\\Users\\华思远\\AppData\\Local\\Temp\\ipykernel_23356\\723388215.py:73: FutureWarning: The frame.append method is deprecated and will be removed from pandas in a future version. Use pandas.concat instead.\n",
      "  self.df_y_train = self.df_y_train.append(dict_y, ignore_index=True)\n",
      "C:\\Users\\华思远\\AppData\\Local\\Temp\\ipykernel_23356\\723388215.py:73: FutureWarning: The frame.append method is deprecated and will be removed from pandas in a future version. Use pandas.concat instead.\n",
      "  self.df_y_train = self.df_y_train.append(dict_y, ignore_index=True)\n",
      "C:\\Users\\华思远\\AppData\\Local\\Temp\\ipykernel_23356\\723388215.py:73: FutureWarning: The frame.append method is deprecated and will be removed from pandas in a future version. Use pandas.concat instead.\n",
      "  self.df_y_train = self.df_y_train.append(dict_y, ignore_index=True)\n",
      "C:\\Users\\华思远\\AppData\\Local\\Temp\\ipykernel_23356\\723388215.py:73: FutureWarning: The frame.append method is deprecated and will be removed from pandas in a future version. Use pandas.concat instead.\n",
      "  self.df_y_train = self.df_y_train.append(dict_y, ignore_index=True)\n",
      "C:\\Users\\华思远\\AppData\\Local\\Temp\\ipykernel_23356\\723388215.py:73: FutureWarning: The frame.append method is deprecated and will be removed from pandas in a future version. Use pandas.concat instead.\n",
      "  self.df_y_train = self.df_y_train.append(dict_y, ignore_index=True)\n",
      "C:\\Users\\华思远\\AppData\\Local\\Temp\\ipykernel_23356\\723388215.py:73: FutureWarning: The frame.append method is deprecated and will be removed from pandas in a future version. Use pandas.concat instead.\n",
      "  self.df_y_train = self.df_y_train.append(dict_y, ignore_index=True)\n",
      "C:\\Users\\华思远\\AppData\\Local\\Temp\\ipykernel_23356\\723388215.py:73: FutureWarning: The frame.append method is deprecated and will be removed from pandas in a future version. Use pandas.concat instead.\n",
      "  self.df_y_train = self.df_y_train.append(dict_y, ignore_index=True)\n",
      "C:\\Users\\华思远\\AppData\\Local\\Temp\\ipykernel_23356\\723388215.py:73: FutureWarning: The frame.append method is deprecated and will be removed from pandas in a future version. Use pandas.concat instead.\n",
      "  self.df_y_train = self.df_y_train.append(dict_y, ignore_index=True)\n",
      "C:\\Users\\华思远\\AppData\\Local\\Temp\\ipykernel_23356\\723388215.py:73: FutureWarning: The frame.append method is deprecated and will be removed from pandas in a future version. Use pandas.concat instead.\n",
      "  self.df_y_train = self.df_y_train.append(dict_y, ignore_index=True)\n",
      "C:\\Users\\华思远\\AppData\\Local\\Temp\\ipykernel_23356\\723388215.py:73: FutureWarning: The frame.append method is deprecated and will be removed from pandas in a future version. Use pandas.concat instead.\n",
      "  self.df_y_train = self.df_y_train.append(dict_y, ignore_index=True)\n",
      "C:\\Users\\华思远\\AppData\\Local\\Temp\\ipykernel_23356\\723388215.py:73: FutureWarning: The frame.append method is deprecated and will be removed from pandas in a future version. Use pandas.concat instead.\n",
      "  self.df_y_train = self.df_y_train.append(dict_y, ignore_index=True)\n",
      "C:\\Users\\华思远\\AppData\\Local\\Temp\\ipykernel_23356\\723388215.py:73: FutureWarning: The frame.append method is deprecated and will be removed from pandas in a future version. Use pandas.concat instead.\n",
      "  self.df_y_train = self.df_y_train.append(dict_y, ignore_index=True)\n",
      "C:\\Users\\华思远\\AppData\\Local\\Temp\\ipykernel_23356\\723388215.py:73: FutureWarning: The frame.append method is deprecated and will be removed from pandas in a future version. Use pandas.concat instead.\n",
      "  self.df_y_train = self.df_y_train.append(dict_y, ignore_index=True)\n",
      "C:\\Users\\华思远\\AppData\\Local\\Temp\\ipykernel_23356\\723388215.py:73: FutureWarning: The frame.append method is deprecated and will be removed from pandas in a future version. Use pandas.concat instead.\n",
      "  self.df_y_train = self.df_y_train.append(dict_y, ignore_index=True)\n",
      "C:\\Users\\华思远\\AppData\\Local\\Temp\\ipykernel_23356\\723388215.py:73: FutureWarning: The frame.append method is deprecated and will be removed from pandas in a future version. Use pandas.concat instead.\n",
      "  self.df_y_train = self.df_y_train.append(dict_y, ignore_index=True)\n",
      "C:\\Users\\华思远\\AppData\\Local\\Temp\\ipykernel_23356\\723388215.py:73: FutureWarning: The frame.append method is deprecated and will be removed from pandas in a future version. Use pandas.concat instead.\n",
      "  self.df_y_train = self.df_y_train.append(dict_y, ignore_index=True)\n",
      "C:\\Users\\华思远\\AppData\\Local\\Temp\\ipykernel_23356\\723388215.py:73: FutureWarning: The frame.append method is deprecated and will be removed from pandas in a future version. Use pandas.concat instead.\n",
      "  self.df_y_train = self.df_y_train.append(dict_y, ignore_index=True)\n",
      "C:\\Users\\华思远\\AppData\\Local\\Temp\\ipykernel_23356\\723388215.py:73: FutureWarning: The frame.append method is deprecated and will be removed from pandas in a future version. Use pandas.concat instead.\n",
      "  self.df_y_train = self.df_y_train.append(dict_y, ignore_index=True)\n",
      "C:\\Users\\华思远\\AppData\\Local\\Temp\\ipykernel_23356\\723388215.py:73: FutureWarning: The frame.append method is deprecated and will be removed from pandas in a future version. Use pandas.concat instead.\n",
      "  self.df_y_train = self.df_y_train.append(dict_y, ignore_index=True)\n",
      "C:\\Users\\华思远\\AppData\\Local\\Temp\\ipykernel_23356\\723388215.py:73: FutureWarning: The frame.append method is deprecated and will be removed from pandas in a future version. Use pandas.concat instead.\n",
      "  self.df_y_train = self.df_y_train.append(dict_y, ignore_index=True)\n",
      "C:\\Users\\华思远\\AppData\\Local\\Temp\\ipykernel_23356\\723388215.py:73: FutureWarning: The frame.append method is deprecated and will be removed from pandas in a future version. Use pandas.concat instead.\n",
      "  self.df_y_train = self.df_y_train.append(dict_y, ignore_index=True)\n",
      "C:\\Users\\华思远\\AppData\\Local\\Temp\\ipykernel_23356\\723388215.py:73: FutureWarning: The frame.append method is deprecated and will be removed from pandas in a future version. Use pandas.concat instead.\n",
      "  self.df_y_train = self.df_y_train.append(dict_y, ignore_index=True)\n",
      "C:\\Users\\华思远\\AppData\\Local\\Temp\\ipykernel_23356\\723388215.py:73: FutureWarning: The frame.append method is deprecated and will be removed from pandas in a future version. Use pandas.concat instead.\n",
      "  self.df_y_train = self.df_y_train.append(dict_y, ignore_index=True)\n",
      "C:\\Users\\华思远\\AppData\\Local\\Temp\\ipykernel_23356\\723388215.py:73: FutureWarning: The frame.append method is deprecated and will be removed from pandas in a future version. Use pandas.concat instead.\n",
      "  self.df_y_train = self.df_y_train.append(dict_y, ignore_index=True)\n",
      "C:\\Users\\华思远\\AppData\\Local\\Temp\\ipykernel_23356\\723388215.py:73: FutureWarning: The frame.append method is deprecated and will be removed from pandas in a future version. Use pandas.concat instead.\n",
      "  self.df_y_train = self.df_y_train.append(dict_y, ignore_index=True)\n",
      "C:\\Users\\华思远\\AppData\\Local\\Temp\\ipykernel_23356\\723388215.py:73: FutureWarning: The frame.append method is deprecated and will be removed from pandas in a future version. Use pandas.concat instead.\n",
      "  self.df_y_train = self.df_y_train.append(dict_y, ignore_index=True)\n",
      "C:\\Users\\华思远\\AppData\\Local\\Temp\\ipykernel_23356\\723388215.py:73: FutureWarning: The frame.append method is deprecated and will be removed from pandas in a future version. Use pandas.concat instead.\n",
      "  self.df_y_train = self.df_y_train.append(dict_y, ignore_index=True)\n",
      "C:\\Users\\华思远\\AppData\\Local\\Temp\\ipykernel_23356\\723388215.py:73: FutureWarning: The frame.append method is deprecated and will be removed from pandas in a future version. Use pandas.concat instead.\n",
      "  self.df_y_train = self.df_y_train.append(dict_y, ignore_index=True)\n",
      "C:\\Users\\华思远\\AppData\\Local\\Temp\\ipykernel_23356\\723388215.py:73: FutureWarning: The frame.append method is deprecated and will be removed from pandas in a future version. Use pandas.concat instead.\n",
      "  self.df_y_train = self.df_y_train.append(dict_y, ignore_index=True)\n",
      "C:\\Users\\华思远\\AppData\\Local\\Temp\\ipykernel_23356\\723388215.py:73: FutureWarning: The frame.append method is deprecated and will be removed from pandas in a future version. Use pandas.concat instead.\n",
      "  self.df_y_train = self.df_y_train.append(dict_y, ignore_index=True)\n",
      "C:\\Users\\华思远\\AppData\\Local\\Temp\\ipykernel_23356\\723388215.py:73: FutureWarning: The frame.append method is deprecated and will be removed from pandas in a future version. Use pandas.concat instead.\n",
      "  self.df_y_train = self.df_y_train.append(dict_y, ignore_index=True)\n",
      "C:\\Users\\华思远\\AppData\\Local\\Temp\\ipykernel_23356\\723388215.py:73: FutureWarning: The frame.append method is deprecated and will be removed from pandas in a future version. Use pandas.concat instead.\n",
      "  self.df_y_train = self.df_y_train.append(dict_y, ignore_index=True)\n",
      "C:\\Users\\华思远\\AppData\\Local\\Temp\\ipykernel_23356\\723388215.py:73: FutureWarning: The frame.append method is deprecated and will be removed from pandas in a future version. Use pandas.concat instead.\n",
      "  self.df_y_train = self.df_y_train.append(dict_y, ignore_index=True)\n",
      "C:\\Users\\华思远\\AppData\\Local\\Temp\\ipykernel_23356\\723388215.py:73: FutureWarning: The frame.append method is deprecated and will be removed from pandas in a future version. Use pandas.concat instead.\n",
      "  self.df_y_train = self.df_y_train.append(dict_y, ignore_index=True)\n",
      "C:\\Users\\华思远\\AppData\\Local\\Temp\\ipykernel_23356\\723388215.py:73: FutureWarning: The frame.append method is deprecated and will be removed from pandas in a future version. Use pandas.concat instead.\n",
      "  self.df_y_train = self.df_y_train.append(dict_y, ignore_index=True)\n",
      "C:\\Users\\华思远\\AppData\\Local\\Temp\\ipykernel_23356\\723388215.py:73: FutureWarning: The frame.append method is deprecated and will be removed from pandas in a future version. Use pandas.concat instead.\n",
      "  self.df_y_train = self.df_y_train.append(dict_y, ignore_index=True)\n",
      "C:\\Users\\华思远\\AppData\\Local\\Temp\\ipykernel_23356\\723388215.py:73: FutureWarning: The frame.append method is deprecated and will be removed from pandas in a future version. Use pandas.concat instead.\n",
      "  self.df_y_train = self.df_y_train.append(dict_y, ignore_index=True)\n",
      "C:\\Users\\华思远\\AppData\\Local\\Temp\\ipykernel_23356\\723388215.py:73: FutureWarning: The frame.append method is deprecated and will be removed from pandas in a future version. Use pandas.concat instead.\n",
      "  self.df_y_train = self.df_y_train.append(dict_y, ignore_index=True)\n",
      "C:\\Users\\华思远\\AppData\\Local\\Temp\\ipykernel_23356\\723388215.py:73: FutureWarning: The frame.append method is deprecated and will be removed from pandas in a future version. Use pandas.concat instead.\n",
      "  self.df_y_train = self.df_y_train.append(dict_y, ignore_index=True)\n",
      "C:\\Users\\华思远\\AppData\\Local\\Temp\\ipykernel_23356\\723388215.py:73: FutureWarning: The frame.append method is deprecated and will be removed from pandas in a future version. Use pandas.concat instead.\n",
      "  self.df_y_train = self.df_y_train.append(dict_y, ignore_index=True)\n",
      "C:\\Users\\华思远\\AppData\\Local\\Temp\\ipykernel_23356\\723388215.py:73: FutureWarning: The frame.append method is deprecated and will be removed from pandas in a future version. Use pandas.concat instead.\n",
      "  self.df_y_train = self.df_y_train.append(dict_y, ignore_index=True)\n",
      "C:\\Users\\华思远\\AppData\\Local\\Temp\\ipykernel_23356\\723388215.py:73: FutureWarning: The frame.append method is deprecated and will be removed from pandas in a future version. Use pandas.concat instead.\n",
      "  self.df_y_train = self.df_y_train.append(dict_y, ignore_index=True)\n",
      "C:\\Users\\华思远\\AppData\\Local\\Temp\\ipykernel_23356\\723388215.py:73: FutureWarning: The frame.append method is deprecated and will be removed from pandas in a future version. Use pandas.concat instead.\n",
      "  self.df_y_train = self.df_y_train.append(dict_y, ignore_index=True)\n",
      "C:\\Users\\华思远\\AppData\\Local\\Temp\\ipykernel_23356\\723388215.py:73: FutureWarning: The frame.append method is deprecated and will be removed from pandas in a future version. Use pandas.concat instead.\n",
      "  self.df_y_train = self.df_y_train.append(dict_y, ignore_index=True)\n",
      "C:\\Users\\华思远\\AppData\\Local\\Temp\\ipykernel_23356\\723388215.py:73: FutureWarning: The frame.append method is deprecated and will be removed from pandas in a future version. Use pandas.concat instead.\n",
      "  self.df_y_train = self.df_y_train.append(dict_y, ignore_index=True)\n",
      "C:\\Users\\华思远\\AppData\\Local\\Temp\\ipykernel_23356\\723388215.py:73: FutureWarning: The frame.append method is deprecated and will be removed from pandas in a future version. Use pandas.concat instead.\n",
      "  self.df_y_train = self.df_y_train.append(dict_y, ignore_index=True)\n",
      "C:\\Users\\华思远\\AppData\\Local\\Temp\\ipykernel_23356\\723388215.py:73: FutureWarning: The frame.append method is deprecated and will be removed from pandas in a future version. Use pandas.concat instead.\n",
      "  self.df_y_train = self.df_y_train.append(dict_y, ignore_index=True)\n",
      "C:\\Users\\华思远\\AppData\\Local\\Temp\\ipykernel_23356\\723388215.py:73: FutureWarning: The frame.append method is deprecated and will be removed from pandas in a future version. Use pandas.concat instead.\n",
      "  self.df_y_train = self.df_y_train.append(dict_y, ignore_index=True)\n",
      "C:\\Users\\华思远\\AppData\\Local\\Temp\\ipykernel_23356\\723388215.py:73: FutureWarning: The frame.append method is deprecated and will be removed from pandas in a future version. Use pandas.concat instead.\n",
      "  self.df_y_train = self.df_y_train.append(dict_y, ignore_index=True)\n",
      "C:\\Users\\华思远\\AppData\\Local\\Temp\\ipykernel_23356\\723388215.py:73: FutureWarning: The frame.append method is deprecated and will be removed from pandas in a future version. Use pandas.concat instead.\n",
      "  self.df_y_train = self.df_y_train.append(dict_y, ignore_index=True)\n",
      "C:\\Users\\华思远\\AppData\\Local\\Temp\\ipykernel_23356\\723388215.py:73: FutureWarning: The frame.append method is deprecated and will be removed from pandas in a future version. Use pandas.concat instead.\n",
      "  self.df_y_train = self.df_y_train.append(dict_y, ignore_index=True)\n",
      "C:\\Users\\华思远\\AppData\\Local\\Temp\\ipykernel_23356\\723388215.py:73: FutureWarning: The frame.append method is deprecated and will be removed from pandas in a future version. Use pandas.concat instead.\n",
      "  self.df_y_train = self.df_y_train.append(dict_y, ignore_index=True)\n",
      "C:\\Users\\华思远\\AppData\\Local\\Temp\\ipykernel_23356\\723388215.py:73: FutureWarning: The frame.append method is deprecated and will be removed from pandas in a future version. Use pandas.concat instead.\n",
      "  self.df_y_train = self.df_y_train.append(dict_y, ignore_index=True)\n",
      "C:\\Users\\华思远\\AppData\\Local\\Temp\\ipykernel_23356\\723388215.py:73: FutureWarning: The frame.append method is deprecated and will be removed from pandas in a future version. Use pandas.concat instead.\n",
      "  self.df_y_train = self.df_y_train.append(dict_y, ignore_index=True)\n",
      "C:\\Users\\华思远\\AppData\\Local\\Temp\\ipykernel_23356\\723388215.py:73: FutureWarning: The frame.append method is deprecated and will be removed from pandas in a future version. Use pandas.concat instead.\n",
      "  self.df_y_train = self.df_y_train.append(dict_y, ignore_index=True)\n",
      "C:\\Users\\华思远\\AppData\\Local\\Temp\\ipykernel_23356\\723388215.py:73: FutureWarning: The frame.append method is deprecated and will be removed from pandas in a future version. Use pandas.concat instead.\n",
      "  self.df_y_train = self.df_y_train.append(dict_y, ignore_index=True)\n",
      "C:\\Users\\华思远\\AppData\\Local\\Temp\\ipykernel_23356\\723388215.py:73: FutureWarning: The frame.append method is deprecated and will be removed from pandas in a future version. Use pandas.concat instead.\n",
      "  self.df_y_train = self.df_y_train.append(dict_y, ignore_index=True)\n",
      "C:\\Users\\华思远\\AppData\\Local\\Temp\\ipykernel_23356\\723388215.py:73: FutureWarning: The frame.append method is deprecated and will be removed from pandas in a future version. Use pandas.concat instead.\n",
      "  self.df_y_train = self.df_y_train.append(dict_y, ignore_index=True)\n",
      "C:\\Users\\华思远\\AppData\\Local\\Temp\\ipykernel_23356\\723388215.py:73: FutureWarning: The frame.append method is deprecated and will be removed from pandas in a future version. Use pandas.concat instead.\n",
      "  self.df_y_train = self.df_y_train.append(dict_y, ignore_index=True)\n",
      "C:\\Users\\华思远\\AppData\\Local\\Temp\\ipykernel_23356\\723388215.py:73: FutureWarning: The frame.append method is deprecated and will be removed from pandas in a future version. Use pandas.concat instead.\n",
      "  self.df_y_train = self.df_y_train.append(dict_y, ignore_index=True)\n",
      "C:\\Users\\华思远\\AppData\\Local\\Temp\\ipykernel_23356\\723388215.py:73: FutureWarning: The frame.append method is deprecated and will be removed from pandas in a future version. Use pandas.concat instead.\n",
      "  self.df_y_train = self.df_y_train.append(dict_y, ignore_index=True)\n",
      "C:\\Users\\华思远\\AppData\\Local\\Temp\\ipykernel_23356\\723388215.py:73: FutureWarning: The frame.append method is deprecated and will be removed from pandas in a future version. Use pandas.concat instead.\n",
      "  self.df_y_train = self.df_y_train.append(dict_y, ignore_index=True)\n",
      "C:\\Users\\华思远\\AppData\\Local\\Temp\\ipykernel_23356\\723388215.py:73: FutureWarning: The frame.append method is deprecated and will be removed from pandas in a future version. Use pandas.concat instead.\n",
      "  self.df_y_train = self.df_y_train.append(dict_y, ignore_index=True)\n",
      "C:\\Users\\华思远\\AppData\\Local\\Temp\\ipykernel_23356\\723388215.py:73: FutureWarning: The frame.append method is deprecated and will be removed from pandas in a future version. Use pandas.concat instead.\n",
      "  self.df_y_train = self.df_y_train.append(dict_y, ignore_index=True)\n",
      "C:\\Users\\华思远\\AppData\\Local\\Temp\\ipykernel_23356\\723388215.py:73: FutureWarning: The frame.append method is deprecated and will be removed from pandas in a future version. Use pandas.concat instead.\n",
      "  self.df_y_train = self.df_y_train.append(dict_y, ignore_index=True)\n",
      "C:\\Users\\华思远\\AppData\\Local\\Temp\\ipykernel_23356\\723388215.py:73: FutureWarning: The frame.append method is deprecated and will be removed from pandas in a future version. Use pandas.concat instead.\n",
      "  self.df_y_train = self.df_y_train.append(dict_y, ignore_index=True)\n"
     ]
    },
    {
     "data": {
      "application/vnd.jupyter.widget-view+json": {
       "model_id": "8dec2c6cbb684bc5839ee57697d29966",
       "version_major": 2,
       "version_minor": 0
      },
      "text/plain": [
       "0it [00:00, ?it/s]"
      ]
     },
     "metadata": {},
     "output_type": "display_data"
    },
    {
     "name": "stderr",
     "output_type": "stream",
     "text": [
      "C:\\Users\\华思远\\AppData\\Local\\Temp\\ipykernel_23356\\723388215.py:73: FutureWarning: The frame.append method is deprecated and will be removed from pandas in a future version. Use pandas.concat instead.\n",
      "  self.df_y_train = self.df_y_train.append(dict_y, ignore_index=True)\n",
      "C:\\Users\\华思远\\AppData\\Local\\Temp\\ipykernel_23356\\723388215.py:73: FutureWarning: The frame.append method is deprecated and will be removed from pandas in a future version. Use pandas.concat instead.\n",
      "  self.df_y_train = self.df_y_train.append(dict_y, ignore_index=True)\n",
      "C:\\Users\\华思远\\AppData\\Local\\Temp\\ipykernel_23356\\723388215.py:73: FutureWarning: The frame.append method is deprecated and will be removed from pandas in a future version. Use pandas.concat instead.\n",
      "  self.df_y_train = self.df_y_train.append(dict_y, ignore_index=True)\n",
      "C:\\Users\\华思远\\AppData\\Local\\Temp\\ipykernel_23356\\723388215.py:73: FutureWarning: The frame.append method is deprecated and will be removed from pandas in a future version. Use pandas.concat instead.\n",
      "  self.df_y_train = self.df_y_train.append(dict_y, ignore_index=True)\n",
      "C:\\Users\\华思远\\AppData\\Local\\Temp\\ipykernel_23356\\723388215.py:73: FutureWarning: The frame.append method is deprecated and will be removed from pandas in a future version. Use pandas.concat instead.\n",
      "  self.df_y_train = self.df_y_train.append(dict_y, ignore_index=True)\n",
      "C:\\Users\\华思远\\AppData\\Local\\Temp\\ipykernel_23356\\723388215.py:73: FutureWarning: The frame.append method is deprecated and will be removed from pandas in a future version. Use pandas.concat instead.\n",
      "  self.df_y_train = self.df_y_train.append(dict_y, ignore_index=True)\n",
      "C:\\Users\\华思远\\AppData\\Local\\Temp\\ipykernel_23356\\723388215.py:73: FutureWarning: The frame.append method is deprecated and will be removed from pandas in a future version. Use pandas.concat instead.\n",
      "  self.df_y_train = self.df_y_train.append(dict_y, ignore_index=True)\n",
      "C:\\Users\\华思远\\AppData\\Local\\Temp\\ipykernel_23356\\723388215.py:73: FutureWarning: The frame.append method is deprecated and will be removed from pandas in a future version. Use pandas.concat instead.\n",
      "  self.df_y_train = self.df_y_train.append(dict_y, ignore_index=True)\n",
      "C:\\Users\\华思远\\AppData\\Local\\Temp\\ipykernel_23356\\723388215.py:73: FutureWarning: The frame.append method is deprecated and will be removed from pandas in a future version. Use pandas.concat instead.\n",
      "  self.df_y_train = self.df_y_train.append(dict_y, ignore_index=True)\n",
      "C:\\Users\\华思远\\AppData\\Local\\Temp\\ipykernel_23356\\723388215.py:73: FutureWarning: The frame.append method is deprecated and will be removed from pandas in a future version. Use pandas.concat instead.\n",
      "  self.df_y_train = self.df_y_train.append(dict_y, ignore_index=True)\n",
      "C:\\Users\\华思远\\AppData\\Local\\Temp\\ipykernel_23356\\723388215.py:73: FutureWarning: The frame.append method is deprecated and will be removed from pandas in a future version. Use pandas.concat instead.\n",
      "  self.df_y_train = self.df_y_train.append(dict_y, ignore_index=True)\n",
      "C:\\Users\\华思远\\AppData\\Local\\Temp\\ipykernel_23356\\723388215.py:73: FutureWarning: The frame.append method is deprecated and will be removed from pandas in a future version. Use pandas.concat instead.\n",
      "  self.df_y_train = self.df_y_train.append(dict_y, ignore_index=True)\n",
      "C:\\Users\\华思远\\AppData\\Local\\Temp\\ipykernel_23356\\723388215.py:73: FutureWarning: The frame.append method is deprecated and will be removed from pandas in a future version. Use pandas.concat instead.\n",
      "  self.df_y_train = self.df_y_train.append(dict_y, ignore_index=True)\n",
      "C:\\Users\\华思远\\AppData\\Local\\Temp\\ipykernel_23356\\723388215.py:73: FutureWarning: The frame.append method is deprecated and will be removed from pandas in a future version. Use pandas.concat instead.\n",
      "  self.df_y_train = self.df_y_train.append(dict_y, ignore_index=True)\n",
      "C:\\Users\\华思远\\AppData\\Local\\Temp\\ipykernel_23356\\723388215.py:73: FutureWarning: The frame.append method is deprecated and will be removed from pandas in a future version. Use pandas.concat instead.\n",
      "  self.df_y_train = self.df_y_train.append(dict_y, ignore_index=True)\n",
      "C:\\Users\\华思远\\AppData\\Local\\Temp\\ipykernel_23356\\723388215.py:73: FutureWarning: The frame.append method is deprecated and will be removed from pandas in a future version. Use pandas.concat instead.\n",
      "  self.df_y_train = self.df_y_train.append(dict_y, ignore_index=True)\n",
      "C:\\Users\\华思远\\AppData\\Local\\Temp\\ipykernel_23356\\723388215.py:73: FutureWarning: The frame.append method is deprecated and will be removed from pandas in a future version. Use pandas.concat instead.\n",
      "  self.df_y_train = self.df_y_train.append(dict_y, ignore_index=True)\n",
      "C:\\Users\\华思远\\AppData\\Local\\Temp\\ipykernel_23356\\723388215.py:73: FutureWarning: The frame.append method is deprecated and will be removed from pandas in a future version. Use pandas.concat instead.\n",
      "  self.df_y_train = self.df_y_train.append(dict_y, ignore_index=True)\n",
      "C:\\Users\\华思远\\AppData\\Local\\Temp\\ipykernel_23356\\723388215.py:73: FutureWarning: The frame.append method is deprecated and will be removed from pandas in a future version. Use pandas.concat instead.\n",
      "  self.df_y_train = self.df_y_train.append(dict_y, ignore_index=True)\n",
      "C:\\Users\\华思远\\AppData\\Local\\Temp\\ipykernel_23356\\723388215.py:73: FutureWarning: The frame.append method is deprecated and will be removed from pandas in a future version. Use pandas.concat instead.\n",
      "  self.df_y_train = self.df_y_train.append(dict_y, ignore_index=True)\n",
      "C:\\Users\\华思远\\AppData\\Local\\Temp\\ipykernel_23356\\723388215.py:73: FutureWarning: The frame.append method is deprecated and will be removed from pandas in a future version. Use pandas.concat instead.\n",
      "  self.df_y_train = self.df_y_train.append(dict_y, ignore_index=True)\n",
      "C:\\Users\\华思远\\AppData\\Local\\Temp\\ipykernel_23356\\723388215.py:73: FutureWarning: The frame.append method is deprecated and will be removed from pandas in a future version. Use pandas.concat instead.\n",
      "  self.df_y_train = self.df_y_train.append(dict_y, ignore_index=True)\n",
      "C:\\Users\\华思远\\AppData\\Local\\Temp\\ipykernel_23356\\723388215.py:73: FutureWarning: The frame.append method is deprecated and will be removed from pandas in a future version. Use pandas.concat instead.\n",
      "  self.df_y_train = self.df_y_train.append(dict_y, ignore_index=True)\n",
      "C:\\Users\\华思远\\AppData\\Local\\Temp\\ipykernel_23356\\723388215.py:73: FutureWarning: The frame.append method is deprecated and will be removed from pandas in a future version. Use pandas.concat instead.\n",
      "  self.df_y_train = self.df_y_train.append(dict_y, ignore_index=True)\n",
      "C:\\Users\\华思远\\AppData\\Local\\Temp\\ipykernel_23356\\723388215.py:73: FutureWarning: The frame.append method is deprecated and will be removed from pandas in a future version. Use pandas.concat instead.\n",
      "  self.df_y_train = self.df_y_train.append(dict_y, ignore_index=True)\n",
      "C:\\Users\\华思远\\AppData\\Local\\Temp\\ipykernel_23356\\723388215.py:73: FutureWarning: The frame.append method is deprecated and will be removed from pandas in a future version. Use pandas.concat instead.\n",
      "  self.df_y_train = self.df_y_train.append(dict_y, ignore_index=True)\n",
      "C:\\Users\\华思远\\AppData\\Local\\Temp\\ipykernel_23356\\723388215.py:73: FutureWarning: The frame.append method is deprecated and will be removed from pandas in a future version. Use pandas.concat instead.\n",
      "  self.df_y_train = self.df_y_train.append(dict_y, ignore_index=True)\n",
      "C:\\Users\\华思远\\AppData\\Local\\Temp\\ipykernel_23356\\723388215.py:73: FutureWarning: The frame.append method is deprecated and will be removed from pandas in a future version. Use pandas.concat instead.\n",
      "  self.df_y_train = self.df_y_train.append(dict_y, ignore_index=True)\n",
      "C:\\Users\\华思远\\AppData\\Local\\Temp\\ipykernel_23356\\723388215.py:73: FutureWarning: The frame.append method is deprecated and will be removed from pandas in a future version. Use pandas.concat instead.\n",
      "  self.df_y_train = self.df_y_train.append(dict_y, ignore_index=True)\n",
      "C:\\Users\\华思远\\AppData\\Local\\Temp\\ipykernel_23356\\723388215.py:73: FutureWarning: The frame.append method is deprecated and will be removed from pandas in a future version. Use pandas.concat instead.\n",
      "  self.df_y_train = self.df_y_train.append(dict_y, ignore_index=True)\n",
      "C:\\Users\\华思远\\AppData\\Local\\Temp\\ipykernel_23356\\723388215.py:73: FutureWarning: The frame.append method is deprecated and will be removed from pandas in a future version. Use pandas.concat instead.\n",
      "  self.df_y_train = self.df_y_train.append(dict_y, ignore_index=True)\n",
      "C:\\Users\\华思远\\AppData\\Local\\Temp\\ipykernel_23356\\723388215.py:73: FutureWarning: The frame.append method is deprecated and will be removed from pandas in a future version. Use pandas.concat instead.\n",
      "  self.df_y_train = self.df_y_train.append(dict_y, ignore_index=True)\n",
      "C:\\Users\\华思远\\AppData\\Local\\Temp\\ipykernel_23356\\723388215.py:73: FutureWarning: The frame.append method is deprecated and will be removed from pandas in a future version. Use pandas.concat instead.\n",
      "  self.df_y_train = self.df_y_train.append(dict_y, ignore_index=True)\n",
      "C:\\Users\\华思远\\AppData\\Local\\Temp\\ipykernel_23356\\723388215.py:73: FutureWarning: The frame.append method is deprecated and will be removed from pandas in a future version. Use pandas.concat instead.\n",
      "  self.df_y_train = self.df_y_train.append(dict_y, ignore_index=True)\n",
      "C:\\Users\\华思远\\AppData\\Local\\Temp\\ipykernel_23356\\723388215.py:73: FutureWarning: The frame.append method is deprecated and will be removed from pandas in a future version. Use pandas.concat instead.\n",
      "  self.df_y_train = self.df_y_train.append(dict_y, ignore_index=True)\n",
      "C:\\Users\\华思远\\AppData\\Local\\Temp\\ipykernel_23356\\723388215.py:73: FutureWarning: The frame.append method is deprecated and will be removed from pandas in a future version. Use pandas.concat instead.\n",
      "  self.df_y_train = self.df_y_train.append(dict_y, ignore_index=True)\n",
      "C:\\Users\\华思远\\AppData\\Local\\Temp\\ipykernel_23356\\723388215.py:73: FutureWarning: The frame.append method is deprecated and will be removed from pandas in a future version. Use pandas.concat instead.\n",
      "  self.df_y_train = self.df_y_train.append(dict_y, ignore_index=True)\n",
      "C:\\Users\\华思远\\AppData\\Local\\Temp\\ipykernel_23356\\723388215.py:73: FutureWarning: The frame.append method is deprecated and will be removed from pandas in a future version. Use pandas.concat instead.\n",
      "  self.df_y_train = self.df_y_train.append(dict_y, ignore_index=True)\n",
      "C:\\Users\\华思远\\AppData\\Local\\Temp\\ipykernel_23356\\723388215.py:73: FutureWarning: The frame.append method is deprecated and will be removed from pandas in a future version. Use pandas.concat instead.\n",
      "  self.df_y_train = self.df_y_train.append(dict_y, ignore_index=True)\n",
      "C:\\Users\\华思远\\AppData\\Local\\Temp\\ipykernel_23356\\723388215.py:73: FutureWarning: The frame.append method is deprecated and will be removed from pandas in a future version. Use pandas.concat instead.\n",
      "  self.df_y_train = self.df_y_train.append(dict_y, ignore_index=True)\n",
      "C:\\Users\\华思远\\AppData\\Local\\Temp\\ipykernel_23356\\723388215.py:73: FutureWarning: The frame.append method is deprecated and will be removed from pandas in a future version. Use pandas.concat instead.\n",
      "  self.df_y_train = self.df_y_train.append(dict_y, ignore_index=True)\n",
      "C:\\Users\\华思远\\AppData\\Local\\Temp\\ipykernel_23356\\723388215.py:73: FutureWarning: The frame.append method is deprecated and will be removed from pandas in a future version. Use pandas.concat instead.\n",
      "  self.df_y_train = self.df_y_train.append(dict_y, ignore_index=True)\n",
      "C:\\Users\\华思远\\AppData\\Local\\Temp\\ipykernel_23356\\723388215.py:73: FutureWarning: The frame.append method is deprecated and will be removed from pandas in a future version. Use pandas.concat instead.\n",
      "  self.df_y_train = self.df_y_train.append(dict_y, ignore_index=True)\n",
      "C:\\Users\\华思远\\AppData\\Local\\Temp\\ipykernel_23356\\723388215.py:73: FutureWarning: The frame.append method is deprecated and will be removed from pandas in a future version. Use pandas.concat instead.\n",
      "  self.df_y_train = self.df_y_train.append(dict_y, ignore_index=True)\n",
      "C:\\Users\\华思远\\AppData\\Local\\Temp\\ipykernel_23356\\723388215.py:73: FutureWarning: The frame.append method is deprecated and will be removed from pandas in a future version. Use pandas.concat instead.\n",
      "  self.df_y_train = self.df_y_train.append(dict_y, ignore_index=True)\n",
      "C:\\Users\\华思远\\AppData\\Local\\Temp\\ipykernel_23356\\723388215.py:73: FutureWarning: The frame.append method is deprecated and will be removed from pandas in a future version. Use pandas.concat instead.\n",
      "  self.df_y_train = self.df_y_train.append(dict_y, ignore_index=True)\n",
      "C:\\Users\\华思远\\AppData\\Local\\Temp\\ipykernel_23356\\723388215.py:73: FutureWarning: The frame.append method is deprecated and will be removed from pandas in a future version. Use pandas.concat instead.\n",
      "  self.df_y_train = self.df_y_train.append(dict_y, ignore_index=True)\n",
      "C:\\Users\\华思远\\AppData\\Local\\Temp\\ipykernel_23356\\723388215.py:73: FutureWarning: The frame.append method is deprecated and will be removed from pandas in a future version. Use pandas.concat instead.\n",
      "  self.df_y_train = self.df_y_train.append(dict_y, ignore_index=True)\n",
      "C:\\Users\\华思远\\AppData\\Local\\Temp\\ipykernel_23356\\723388215.py:73: FutureWarning: The frame.append method is deprecated and will be removed from pandas in a future version. Use pandas.concat instead.\n",
      "  self.df_y_train = self.df_y_train.append(dict_y, ignore_index=True)\n",
      "C:\\Users\\华思远\\AppData\\Local\\Temp\\ipykernel_23356\\723388215.py:73: FutureWarning: The frame.append method is deprecated and will be removed from pandas in a future version. Use pandas.concat instead.\n",
      "  self.df_y_train = self.df_y_train.append(dict_y, ignore_index=True)\n",
      "C:\\Users\\华思远\\AppData\\Local\\Temp\\ipykernel_23356\\723388215.py:73: FutureWarning: The frame.append method is deprecated and will be removed from pandas in a future version. Use pandas.concat instead.\n",
      "  self.df_y_train = self.df_y_train.append(dict_y, ignore_index=True)\n",
      "C:\\Users\\华思远\\AppData\\Local\\Temp\\ipykernel_23356\\723388215.py:73: FutureWarning: The frame.append method is deprecated and will be removed from pandas in a future version. Use pandas.concat instead.\n",
      "  self.df_y_train = self.df_y_train.append(dict_y, ignore_index=True)\n",
      "C:\\Users\\华思远\\AppData\\Local\\Temp\\ipykernel_23356\\723388215.py:73: FutureWarning: The frame.append method is deprecated and will be removed from pandas in a future version. Use pandas.concat instead.\n",
      "  self.df_y_train = self.df_y_train.append(dict_y, ignore_index=True)\n",
      "C:\\Users\\华思远\\AppData\\Local\\Temp\\ipykernel_23356\\723388215.py:73: FutureWarning: The frame.append method is deprecated and will be removed from pandas in a future version. Use pandas.concat instead.\n",
      "  self.df_y_train = self.df_y_train.append(dict_y, ignore_index=True)\n",
      "C:\\Users\\华思远\\AppData\\Local\\Temp\\ipykernel_23356\\723388215.py:73: FutureWarning: The frame.append method is deprecated and will be removed from pandas in a future version. Use pandas.concat instead.\n",
      "  self.df_y_train = self.df_y_train.append(dict_y, ignore_index=True)\n",
      "C:\\Users\\华思远\\AppData\\Local\\Temp\\ipykernel_23356\\723388215.py:73: FutureWarning: The frame.append method is deprecated and will be removed from pandas in a future version. Use pandas.concat instead.\n",
      "  self.df_y_train = self.df_y_train.append(dict_y, ignore_index=True)\n",
      "C:\\Users\\华思远\\AppData\\Local\\Temp\\ipykernel_23356\\723388215.py:73: FutureWarning: The frame.append method is deprecated and will be removed from pandas in a future version. Use pandas.concat instead.\n",
      "  self.df_y_train = self.df_y_train.append(dict_y, ignore_index=True)\n",
      "C:\\Users\\华思远\\AppData\\Local\\Temp\\ipykernel_23356\\723388215.py:73: FutureWarning: The frame.append method is deprecated and will be removed from pandas in a future version. Use pandas.concat instead.\n",
      "  self.df_y_train = self.df_y_train.append(dict_y, ignore_index=True)\n",
      "C:\\Users\\华思远\\AppData\\Local\\Temp\\ipykernel_23356\\723388215.py:73: FutureWarning: The frame.append method is deprecated and will be removed from pandas in a future version. Use pandas.concat instead.\n",
      "  self.df_y_train = self.df_y_train.append(dict_y, ignore_index=True)\n",
      "C:\\Users\\华思远\\AppData\\Local\\Temp\\ipykernel_23356\\723388215.py:73: FutureWarning: The frame.append method is deprecated and will be removed from pandas in a future version. Use pandas.concat instead.\n",
      "  self.df_y_train = self.df_y_train.append(dict_y, ignore_index=True)\n",
      "C:\\Users\\华思远\\AppData\\Local\\Temp\\ipykernel_23356\\723388215.py:73: FutureWarning: The frame.append method is deprecated and will be removed from pandas in a future version. Use pandas.concat instead.\n",
      "  self.df_y_train = self.df_y_train.append(dict_y, ignore_index=True)\n",
      "C:\\Users\\华思远\\AppData\\Local\\Temp\\ipykernel_23356\\723388215.py:73: FutureWarning: The frame.append method is deprecated and will be removed from pandas in a future version. Use pandas.concat instead.\n",
      "  self.df_y_train = self.df_y_train.append(dict_y, ignore_index=True)\n",
      "C:\\Users\\华思远\\AppData\\Local\\Temp\\ipykernel_23356\\723388215.py:73: FutureWarning: The frame.append method is deprecated and will be removed from pandas in a future version. Use pandas.concat instead.\n",
      "  self.df_y_train = self.df_y_train.append(dict_y, ignore_index=True)\n",
      "C:\\Users\\华思远\\AppData\\Local\\Temp\\ipykernel_23356\\723388215.py:73: FutureWarning: The frame.append method is deprecated and will be removed from pandas in a future version. Use pandas.concat instead.\n",
      "  self.df_y_train = self.df_y_train.append(dict_y, ignore_index=True)\n",
      "C:\\Users\\华思远\\AppData\\Local\\Temp\\ipykernel_23356\\723388215.py:73: FutureWarning: The frame.append method is deprecated and will be removed from pandas in a future version. Use pandas.concat instead.\n",
      "  self.df_y_train = self.df_y_train.append(dict_y, ignore_index=True)\n",
      "C:\\Users\\华思远\\AppData\\Local\\Temp\\ipykernel_23356\\723388215.py:73: FutureWarning: The frame.append method is deprecated and will be removed from pandas in a future version. Use pandas.concat instead.\n",
      "  self.df_y_train = self.df_y_train.append(dict_y, ignore_index=True)\n",
      "C:\\Users\\华思远\\AppData\\Local\\Temp\\ipykernel_23356\\723388215.py:73: FutureWarning: The frame.append method is deprecated and will be removed from pandas in a future version. Use pandas.concat instead.\n",
      "  self.df_y_train = self.df_y_train.append(dict_y, ignore_index=True)\n",
      "C:\\Users\\华思远\\AppData\\Local\\Temp\\ipykernel_23356\\723388215.py:73: FutureWarning: The frame.append method is deprecated and will be removed from pandas in a future version. Use pandas.concat instead.\n",
      "  self.df_y_train = self.df_y_train.append(dict_y, ignore_index=True)\n",
      "C:\\Users\\华思远\\AppData\\Local\\Temp\\ipykernel_23356\\723388215.py:73: FutureWarning: The frame.append method is deprecated and will be removed from pandas in a future version. Use pandas.concat instead.\n",
      "  self.df_y_train = self.df_y_train.append(dict_y, ignore_index=True)\n",
      "C:\\Users\\华思远\\AppData\\Local\\Temp\\ipykernel_23356\\723388215.py:73: FutureWarning: The frame.append method is deprecated and will be removed from pandas in a future version. Use pandas.concat instead.\n",
      "  self.df_y_train = self.df_y_train.append(dict_y, ignore_index=True)\n",
      "C:\\Users\\华思远\\AppData\\Local\\Temp\\ipykernel_23356\\723388215.py:73: FutureWarning: The frame.append method is deprecated and will be removed from pandas in a future version. Use pandas.concat instead.\n",
      "  self.df_y_train = self.df_y_train.append(dict_y, ignore_index=True)\n",
      "C:\\Users\\华思远\\AppData\\Local\\Temp\\ipykernel_23356\\723388215.py:73: FutureWarning: The frame.append method is deprecated and will be removed from pandas in a future version. Use pandas.concat instead.\n",
      "  self.df_y_train = self.df_y_train.append(dict_y, ignore_index=True)\n",
      "C:\\Users\\华思远\\AppData\\Local\\Temp\\ipykernel_23356\\723388215.py:73: FutureWarning: The frame.append method is deprecated and will be removed from pandas in a future version. Use pandas.concat instead.\n",
      "  self.df_y_train = self.df_y_train.append(dict_y, ignore_index=True)\n",
      "C:\\Users\\华思远\\AppData\\Local\\Temp\\ipykernel_23356\\723388215.py:73: FutureWarning: The frame.append method is deprecated and will be removed from pandas in a future version. Use pandas.concat instead.\n",
      "  self.df_y_train = self.df_y_train.append(dict_y, ignore_index=True)\n",
      "C:\\Users\\华思远\\AppData\\Local\\Temp\\ipykernel_23356\\723388215.py:73: FutureWarning: The frame.append method is deprecated and will be removed from pandas in a future version. Use pandas.concat instead.\n",
      "  self.df_y_train = self.df_y_train.append(dict_y, ignore_index=True)\n",
      "C:\\Users\\华思远\\AppData\\Local\\Temp\\ipykernel_23356\\723388215.py:73: FutureWarning: The frame.append method is deprecated and will be removed from pandas in a future version. Use pandas.concat instead.\n",
      "  self.df_y_train = self.df_y_train.append(dict_y, ignore_index=True)\n",
      "C:\\Users\\华思远\\AppData\\Local\\Temp\\ipykernel_23356\\723388215.py:73: FutureWarning: The frame.append method is deprecated and will be removed from pandas in a future version. Use pandas.concat instead.\n",
      "  self.df_y_train = self.df_y_train.append(dict_y, ignore_index=True)\n",
      "C:\\Users\\华思远\\AppData\\Local\\Temp\\ipykernel_23356\\723388215.py:73: FutureWarning: The frame.append method is deprecated and will be removed from pandas in a future version. Use pandas.concat instead.\n",
      "  self.df_y_train = self.df_y_train.append(dict_y, ignore_index=True)\n",
      "C:\\Users\\华思远\\AppData\\Local\\Temp\\ipykernel_23356\\723388215.py:73: FutureWarning: The frame.append method is deprecated and will be removed from pandas in a future version. Use pandas.concat instead.\n",
      "  self.df_y_train = self.df_y_train.append(dict_y, ignore_index=True)\n",
      "C:\\Users\\华思远\\AppData\\Local\\Temp\\ipykernel_23356\\723388215.py:73: FutureWarning: The frame.append method is deprecated and will be removed from pandas in a future version. Use pandas.concat instead.\n",
      "  self.df_y_train = self.df_y_train.append(dict_y, ignore_index=True)\n",
      "C:\\Users\\华思远\\AppData\\Local\\Temp\\ipykernel_23356\\723388215.py:73: FutureWarning: The frame.append method is deprecated and will be removed from pandas in a future version. Use pandas.concat instead.\n",
      "  self.df_y_train = self.df_y_train.append(dict_y, ignore_index=True)\n",
      "C:\\Users\\华思远\\AppData\\Local\\Temp\\ipykernel_23356\\723388215.py:73: FutureWarning: The frame.append method is deprecated and will be removed from pandas in a future version. Use pandas.concat instead.\n",
      "  self.df_y_train = self.df_y_train.append(dict_y, ignore_index=True)\n",
      "C:\\Users\\华思远\\AppData\\Local\\Temp\\ipykernel_23356\\723388215.py:73: FutureWarning: The frame.append method is deprecated and will be removed from pandas in a future version. Use pandas.concat instead.\n",
      "  self.df_y_train = self.df_y_train.append(dict_y, ignore_index=True)\n",
      "C:\\Users\\华思远\\AppData\\Local\\Temp\\ipykernel_23356\\723388215.py:73: FutureWarning: The frame.append method is deprecated and will be removed from pandas in a future version. Use pandas.concat instead.\n",
      "  self.df_y_train = self.df_y_train.append(dict_y, ignore_index=True)\n",
      "C:\\Users\\华思远\\AppData\\Local\\Temp\\ipykernel_23356\\723388215.py:73: FutureWarning: The frame.append method is deprecated and will be removed from pandas in a future version. Use pandas.concat instead.\n",
      "  self.df_y_train = self.df_y_train.append(dict_y, ignore_index=True)\n",
      "C:\\Users\\华思远\\AppData\\Local\\Temp\\ipykernel_23356\\723388215.py:73: FutureWarning: The frame.append method is deprecated and will be removed from pandas in a future version. Use pandas.concat instead.\n",
      "  self.df_y_train = self.df_y_train.append(dict_y, ignore_index=True)\n",
      "C:\\Users\\华思远\\AppData\\Local\\Temp\\ipykernel_23356\\723388215.py:73: FutureWarning: The frame.append method is deprecated and will be removed from pandas in a future version. Use pandas.concat instead.\n",
      "  self.df_y_train = self.df_y_train.append(dict_y, ignore_index=True)\n",
      "C:\\Users\\华思远\\AppData\\Local\\Temp\\ipykernel_23356\\723388215.py:73: FutureWarning: The frame.append method is deprecated and will be removed from pandas in a future version. Use pandas.concat instead.\n",
      "  self.df_y_train = self.df_y_train.append(dict_y, ignore_index=True)\n",
      "C:\\Users\\华思远\\AppData\\Local\\Temp\\ipykernel_23356\\723388215.py:73: FutureWarning: The frame.append method is deprecated and will be removed from pandas in a future version. Use pandas.concat instead.\n",
      "  self.df_y_train = self.df_y_train.append(dict_y, ignore_index=True)\n",
      "C:\\Users\\华思远\\AppData\\Local\\Temp\\ipykernel_23356\\723388215.py:73: FutureWarning: The frame.append method is deprecated and will be removed from pandas in a future version. Use pandas.concat instead.\n",
      "  self.df_y_train = self.df_y_train.append(dict_y, ignore_index=True)\n",
      "C:\\Users\\华思远\\AppData\\Local\\Temp\\ipykernel_23356\\723388215.py:73: FutureWarning: The frame.append method is deprecated and will be removed from pandas in a future version. Use pandas.concat instead.\n",
      "  self.df_y_train = self.df_y_train.append(dict_y, ignore_index=True)\n",
      "C:\\Users\\华思远\\AppData\\Local\\Temp\\ipykernel_23356\\723388215.py:73: FutureWarning: The frame.append method is deprecated and will be removed from pandas in a future version. Use pandas.concat instead.\n",
      "  self.df_y_train = self.df_y_train.append(dict_y, ignore_index=True)\n",
      "C:\\Users\\华思远\\AppData\\Local\\Temp\\ipykernel_23356\\723388215.py:73: FutureWarning: The frame.append method is deprecated and will be removed from pandas in a future version. Use pandas.concat instead.\n",
      "  self.df_y_train = self.df_y_train.append(dict_y, ignore_index=True)\n",
      "C:\\Users\\华思远\\AppData\\Local\\Temp\\ipykernel_23356\\723388215.py:73: FutureWarning: The frame.append method is deprecated and will be removed from pandas in a future version. Use pandas.concat instead.\n",
      "  self.df_y_train = self.df_y_train.append(dict_y, ignore_index=True)\n",
      "C:\\Users\\华思远\\AppData\\Local\\Temp\\ipykernel_23356\\723388215.py:73: FutureWarning: The frame.append method is deprecated and will be removed from pandas in a future version. Use pandas.concat instead.\n",
      "  self.df_y_train = self.df_y_train.append(dict_y, ignore_index=True)\n",
      "C:\\Users\\华思远\\AppData\\Local\\Temp\\ipykernel_23356\\723388215.py:73: FutureWarning: The frame.append method is deprecated and will be removed from pandas in a future version. Use pandas.concat instead.\n",
      "  self.df_y_train = self.df_y_train.append(dict_y, ignore_index=True)\n",
      "C:\\Users\\华思远\\AppData\\Local\\Temp\\ipykernel_23356\\723388215.py:73: FutureWarning: The frame.append method is deprecated and will be removed from pandas in a future version. Use pandas.concat instead.\n",
      "  self.df_y_train = self.df_y_train.append(dict_y, ignore_index=True)\n",
      "C:\\Users\\华思远\\AppData\\Local\\Temp\\ipykernel_23356\\723388215.py:73: FutureWarning: The frame.append method is deprecated and will be removed from pandas in a future version. Use pandas.concat instead.\n",
      "  self.df_y_train = self.df_y_train.append(dict_y, ignore_index=True)\n",
      "C:\\Users\\华思远\\AppData\\Local\\Temp\\ipykernel_23356\\723388215.py:73: FutureWarning: The frame.append method is deprecated and will be removed from pandas in a future version. Use pandas.concat instead.\n",
      "  self.df_y_train = self.df_y_train.append(dict_y, ignore_index=True)\n",
      "C:\\Users\\华思远\\AppData\\Local\\Temp\\ipykernel_23356\\723388215.py:73: FutureWarning: The frame.append method is deprecated and will be removed from pandas in a future version. Use pandas.concat instead.\n",
      "  self.df_y_train = self.df_y_train.append(dict_y, ignore_index=True)\n"
     ]
    }
   ],
   "source": [
    "errors_test_notuning = []\n",
    "for i, row in tqdm(df_y_test.iterrows()):\n",
    "    prediction_test = model.aggregate()\n",
    "    errors_test_notuning.append(np.abs(row.values - prediction_test))\n",
    "\n",
    "    # tuning==Falseの場合、データが追加されても重みの更新などパラメータは変わらない\n",
    "    model.fit_new_data(row.to_dict(), tuning=False)\n",
    "\n",
    "errors_test_tuning = []\n",
    "for i, row in tqdm(df_y_test.iterrows()):\n",
    "    prediction_test = model.aggregate()\n",
    "    errors_test_tuning.append(np.abs(row.values - prediction_test))\n",
    "\n",
    "    # tuning==Trueの場合、データが追加された際に重みの更新などパラメータが調整される\n",
    "    model.fit_new_data(row.to_dict(), tuning=True)"
   ]
  },
  {
   "cell_type": "code",
   "execution_count": 34,
   "metadata": {},
   "outputs": [],
   "source": [
    "days_ma = 5\n",
    "\n",
    "# trader-company errors with no-tuning\n",
    "errors_test_notuning = np.array(errors_test_notuning)\n",
    "errors_test_notuning_ma = pd.DataFrame(errors_test_notuning).rolling(\n",
    "    days_ma).mean()\n",
    "\n",
    "# trader-company errors with tuning\n",
    "errors_test_tuning = np.array(errors_test_tuning)\n",
    "errors_test_tuning_ma = pd.DataFrame(errors_test_tuning).rolling(\n",
    "    days_ma).mean()\n",
    "\n",
    "# baseline method\n",
    "errors_baseline = np.abs(y[:, T_train + 1:] - y[:, T_train:-1])\n",
    "errors_baseline_ma = pd.DataFrame(errors_baseline.T).rolling(days_ma).mean()\n",
    "\n",
    "# lower bound\n",
    "errors_lower_bound = np.abs(y[:, T_train + 1:] -\n",
    "                            y_without_noise[:, T_train + 1:])\n",
    "errors_lower_bound_ma = pd.DataFrame(\n",
    "    errors_lower_bound.T).rolling(days_ma).mean()\n"
   ]
  },
  {
   "cell_type": "code",
   "execution_count": 36,
   "metadata": {},
   "outputs": [
    {
     "name": "stdout",
     "output_type": "stream",
     "text": [
      "stock0\n"
     ]
    },
    {
     "data": {
      "image/png": "[encoded data removed]",
      "text/plain": [
       "<Figure size 432x288 with 1 Axes>"
      ]
     },
     "metadata": {
      "needs_background": "light"
     },
     "output_type": "display_data"
    },
    {
     "name": "stdout",
     "output_type": "stream",
     "text": [
      "stock1\n"
     ]
    },
    {
     "data": {
      "image/png": "[encoded data removed]",
      "text/plain": [
       "<Figure size 432x288 with 1 Axes>"
      ]
     },
     "metadata": {
      "needs_background": "light"
     },
     "output_type": "display_data"
    }
   ],
   "source": [
    "for i_stock, name in enumerate(stock_names):\n",
    "    print(name)\n",
    "    plt.plot(errors_test_notuning_ma[i_stock], label=\"trader-company_notuning\")\n",
    "    plt.plot(errors_test_tuning_ma[i_stock], label=\"trader-company_tuning\")\n",
    "    plt.plot(errors_baseline_ma[i_stock], label=\"baseline\")\n",
    "    plt.plot(errors_lower_bound_ma[i_stock], label=\"lower-bound\")\n",
    "    plt.xlabel(\"time\")\n",
    "    plt.ylabel(\"mean average error\")\n",
    "    plt.legend()\n",
    "    plt.show()"
   ]
  },
  {
   "cell_type": "code",
   "execution_count": null,
   "metadata": {},
   "outputs": [],
   "source": []
  },
  {
   "cell_type": "code",
   "execution_count": null,
   "metadata": {},
   "outputs": [],
   "source": []
  }
 ],
 "metadata": {
  "interpreter": {
   "hash": "49cb93f377a7abe7414b7b0f21fb3017538004a126cf690fb524202736b7fb92"
  },
  "kernelspec": {
   "display_name": "Python 3.8.8 ('base')",
   "language": "python",
   "name": "python3"
  },
  "language_info": {
   "codemirror_mode": {
    "name": "ipython",
    "version": 3
   },
   "file_extension": ".py",
   "mimetype": "text/x-python",
   "name": "python",
   "nbconvert_exporter": "python",
   "pygments_lexer": "ipython3",
   "version": "3.8.8"
  },
  "orig_nbformat": 4
 },
 "nbformat": 4,
 "nbformat_minor": 2
}
