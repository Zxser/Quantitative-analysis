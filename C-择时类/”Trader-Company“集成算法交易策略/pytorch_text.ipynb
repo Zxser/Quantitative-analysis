{
 "cells": [
  {
   "cell_type": "code",
   "execution_count": null,
   "metadata": {},
   "outputs": [],
   "source": [
    "import torch\n",
    "from torch.nn import (Tanh,ReLU)\n",
    "\n",
    "def dynamics(y_t:torch.tensor,sigma):\n",
    "\n",
    "    a,b = y_t\n",
    "    y_next = torch.zeros_like(y_t)\n",
    "    size = y_t.shape[1]\n",
    "    relu = ReLU()\n",
    "\n",
    "    y_next[0] =  1.0 * torch.tanh(a) + 0.8 * a * b + 1.0 * b - 1.0 * relu(torch.minimum(a,b)) + sigma * torch.randn(size)\n",
    "    y_next[1] = 0.6 * torch.sign(b) + 0.5 * a * b - 1.0 * torch.maximum(a,b) + sigma * torch.randn(size)\n",
    "\n",
    "    return y_next\n",
    "\n",
    "sigma_true = 0.1\n",
    "\n",
    "T_total = 2000\n",
    "y = torch.zeros((2, T_total))\n",
    "y_without_noise = torch.zeros((2, T_total))\n",
    "\n",
    "name_stock = dynamics(y,sigma_true)\n",
    "noise = dynamics(name_stock,0)\n",
    "\n",
    "# Nomura = name_stock[0]\n",
    "# PFN = name_stock[1]\n",
    "name_stock[:,0] = torch.tensor([0.5,0.5])\n",
    "noise[:,0] = torch.tensor([0.5,-0.5])\n",
    "name_stock_label = [\"Nomura\", \"PFN\"]\n",
    "\n",
    "plt.figure(figsize=(18,5))\n",
    "plt.xlim([T_total - 100,T_total])\n",
    "plt.plot(name_stock[0].numpy(), color = \"#cc0000\", label = name_stock_label[0])\n",
    "plt.plot(name_stock[1].numpy(), color = \"#083090\", label = name_stock_label[1])\n",
    "plt.plot(noise[0].numpy(), color = \"#cc0000\", linestyle = \"--\", label = name_stock_label[0] + \"(w/o noise)\")\n",
    "plt.plot(noise[1].numpy(), color = \"#083090\", linestyle = \"--\", label = name_stock_label[1] + \"(w/o noise)\")\n",
    "plt.xlabel(\"time\", fontsize = 18)\n",
    "plt.ylabel(\"y\", fontsize = 18)\n",
    "plt.legend()"
   ]
  }
 ],
 "metadata": {
  "language_info": {
   "name": "python"
  },
  "orig_nbformat": 4
 },
 "nbformat": 4,
 "nbformat_minor": 2
}
